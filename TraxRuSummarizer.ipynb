{
  "nbformat": 4,
  "nbformat_minor": 0,
  "metadata": {
    "colab": {
      "name": "TraxRuSummarizer.ipynb",
      "provenance": [],
      "collapsed_sections": [],
      "toc_visible": true,
      "authorship_tag": "ABX9TyPxW6TxDF0xiBCnjIVGGs1E",
      "include_colab_link": true
    },
    "kernelspec": {
      "name": "python3",
      "display_name": "Python 3"
    },
    "accelerator": "GPU"
  },
  "cells": [
    {
      "cell_type": "markdown",
      "metadata": {
        "id": "view-in-github",
        "colab_type": "text"
      },
      "source": [
        "<a href=\"https://colab.research.google.com/github/khmelkoff/TraxRuSummarizer/blob/main/TraxRuSummarizer.ipynb\" target=\"_parent\"><img src=\"https://colab.research.google.com/assets/colab-badge.svg\" alt=\"Open In Colab\"/></a>"
      ]
    },
    {
      "cell_type": "code",
      "metadata": {
        "id": "mSNuqhfqcihA"
      },
      "source": [
        "!pip -q install trax"
      ],
      "execution_count": 1,
      "outputs": []
    },
    {
      "cell_type": "code",
      "metadata": {
        "id": "m_aqU1MnqnJJ"
      },
      "source": [
        "import os\r\n",
        "import pandas as pd\r\n",
        "import numpy as np\r\n",
        "from tqdm import tqdm\r\n",
        "import random\r\n",
        "# from unicodedata import normalize\r\n",
        "# import sentencepiece as spm\r\n",
        "\r\n",
        "import trax\r\n",
        "from trax import layers as tl\r\n",
        "# from trax.fastmath import numpy as jnp\r\n",
        "\r\n",
        "%matplotlib inline"
      ],
      "execution_count": 2,
      "outputs": []
    },
    {
      "cell_type": "code",
      "metadata": {
        "id": "_1vipmj4Jw0E"
      },
      "source": [
        "import textwrap\r\n",
        "wrapper = textwrap.TextWrapper(width=70)"
      ],
      "execution_count": 3,
      "outputs": []
    },
    {
      "cell_type": "markdown",
      "metadata": {
        "id": "r7edZqAdIew0"
      },
      "source": [
        "## Load the data"
      ]
    },
    {
      "cell_type": "code",
      "metadata": {
        "colab": {
          "base_uri": "https://localhost:8080/"
        },
        "id": "eTcmoVfgqzYQ",
        "outputId": "1f6514fe-bd55-4279-9dd1-90d8acfa341a"
      },
      "source": [
        "from google.colab import drive\r\n",
        "drive.mount('/content/drive')"
      ],
      "execution_count": 4,
      "outputs": [
        {
          "output_type": "stream",
          "text": [
            "Drive already mounted at /content/drive; to attempt to forcibly remount, call drive.mount(\"/content/drive\", force_remount=True).\n"
          ],
          "name": "stdout"
        }
      ]
    },
    {
      "cell_type": "code",
      "metadata": {
        "colab": {
          "base_uri": "https://localhost:8080/",
          "height": 339
        },
        "id": "cEHo8bdTrbAL",
        "outputId": "ab74dc95-73fe-4105-a7ff-33c9367d240a"
      },
      "source": [
        "data = pd.read_csv('/content/drive/MyDrive/lenta-ru-news.csv.zip')\r\n",
        "data.head()"
      ],
      "execution_count": 5,
      "outputs": [
        {
          "output_type": "stream",
          "text": [
            "/usr/local/lib/python3.6/dist-packages/IPython/core/interactiveshell.py:2718: DtypeWarning: Columns (3) have mixed types.Specify dtype option on import or set low_memory=False.\n",
            "  interactivity=interactivity, compiler=compiler, result=result)\n"
          ],
          "name": "stderr"
        },
        {
          "output_type": "execute_result",
          "data": {
            "text/html": [
              "<div>\n",
              "<style scoped>\n",
              "    .dataframe tbody tr th:only-of-type {\n",
              "        vertical-align: middle;\n",
              "    }\n",
              "\n",
              "    .dataframe tbody tr th {\n",
              "        vertical-align: top;\n",
              "    }\n",
              "\n",
              "    .dataframe thead th {\n",
              "        text-align: right;\n",
              "    }\n",
              "</style>\n",
              "<table border=\"1\" class=\"dataframe\">\n",
              "  <thead>\n",
              "    <tr style=\"text-align: right;\">\n",
              "      <th></th>\n",
              "      <th>url</th>\n",
              "      <th>title</th>\n",
              "      <th>text</th>\n",
              "      <th>topic</th>\n",
              "      <th>tags</th>\n",
              "      <th>date</th>\n",
              "    </tr>\n",
              "  </thead>\n",
              "  <tbody>\n",
              "    <tr>\n",
              "      <th>0</th>\n",
              "      <td>https://lenta.ru/news/1914/09/16/hungarnn/</td>\n",
              "      <td>1914. Русские войска вступили в пределы Венгрии</td>\n",
              "      <td>Бои у Сопоцкина и Друскеник закончились отступ...</td>\n",
              "      <td>Библиотека</td>\n",
              "      <td>Первая мировая</td>\n",
              "      <td>1914/09/16</td>\n",
              "    </tr>\n",
              "    <tr>\n",
              "      <th>1</th>\n",
              "      <td>https://lenta.ru/news/1914/09/16/lermontov/</td>\n",
              "      <td>1914. Празднование столетия М.Ю. Лермонтова от...</td>\n",
              "      <td>Министерство народного просвещения, в виду про...</td>\n",
              "      <td>Библиотека</td>\n",
              "      <td>Первая мировая</td>\n",
              "      <td>1914/09/16</td>\n",
              "    </tr>\n",
              "    <tr>\n",
              "      <th>2</th>\n",
              "      <td>https://lenta.ru/news/1914/09/17/nesteroff/</td>\n",
              "      <td>1914. Das ist Nesteroff!</td>\n",
              "      <td>Штабс-капитан П. Н. Нестеров на днях, увидев в...</td>\n",
              "      <td>Библиотека</td>\n",
              "      <td>Первая мировая</td>\n",
              "      <td>1914/09/17</td>\n",
              "    </tr>\n",
              "    <tr>\n",
              "      <th>3</th>\n",
              "      <td>https://lenta.ru/news/1914/09/17/bulldogn/</td>\n",
              "      <td>1914. Бульдог-гонец под Льежем</td>\n",
              "      <td>Фотограф-корреспондент Daily Mirror рассказыва...</td>\n",
              "      <td>Библиотека</td>\n",
              "      <td>Первая мировая</td>\n",
              "      <td>1914/09/17</td>\n",
              "    </tr>\n",
              "    <tr>\n",
              "      <th>4</th>\n",
              "      <td>https://lenta.ru/news/1914/09/18/zver/</td>\n",
              "      <td>1914. Под Люблином пойман швабский зверь</td>\n",
              "      <td>Лица, приехавшие в Варшаву из Люблина, передаю...</td>\n",
              "      <td>Библиотека</td>\n",
              "      <td>Первая мировая</td>\n",
              "      <td>1914/09/18</td>\n",
              "    </tr>\n",
              "  </tbody>\n",
              "</table>\n",
              "</div>"
            ],
            "text/plain": [
              "                                           url  ...        date\n",
              "0   https://lenta.ru/news/1914/09/16/hungarnn/  ...  1914/09/16\n",
              "1  https://lenta.ru/news/1914/09/16/lermontov/  ...  1914/09/16\n",
              "2  https://lenta.ru/news/1914/09/17/nesteroff/  ...  1914/09/17\n",
              "3   https://lenta.ru/news/1914/09/17/bulldogn/  ...  1914/09/17\n",
              "4       https://lenta.ru/news/1914/09/18/zver/  ...  1914/09/18\n",
              "\n",
              "[5 rows x 6 columns]"
            ]
          },
          "metadata": {
            "tags": []
          },
          "execution_count": 5
        }
      ]
    },
    {
      "cell_type": "code",
      "metadata": {
        "colab": {
          "base_uri": "https://localhost:8080/",
          "height": 282
        },
        "id": "f1Kj8ssZdUkc",
        "outputId": "3643aabd-adb6-4d75-dcc2-a04657b3d57d"
      },
      "source": [
        "data['text_len'] = [len(x) if not type(x)==float else 0 for x in data.text]\r\n",
        "data.text_len[data.text_len < 2000].hist()"
      ],
      "execution_count": 6,
      "outputs": [
        {
          "output_type": "execute_result",
          "data": {
            "text/plain": [
              "<matplotlib.axes._subplots.AxesSubplot at 0x7f4d00f5c9e8>"
            ]
          },
          "metadata": {
            "tags": []
          },
          "execution_count": 6
        },
        {
          "output_type": "display_data",
          "data": {
            "image/png": "[encoded data removed]",
            "text/plain": [
              "<Figure size 432x288 with 1 Axes>"
            ]
          },
          "metadata": {
            "tags": [],
            "needs_background": "light"
          }
        }
      ]
    },
    {
      "cell_type": "code",
      "metadata": {
        "colab": {
          "base_uri": "https://localhost:8080/"
        },
        "id": "1jCVmpc9dUvL",
        "outputId": "e5edc407-fe5c-45bc-958b-bcec9b8a88e6"
      },
      "source": [
        "# text_full = []  # full text list for train senttence piece tokenizer\r\n",
        "text_pairs = [] # paired data for train the model, format: (title, text)\r\n",
        "for i in tqdm(range(data.shape[0])):\r\n",
        "    if data.iloc[i, 6] >= 200 and data.iloc[i, 6] <= 1100:\r\n",
        "        # text_full.append(data.iloc[i, 1].lower() + '\\n' + data.iloc[i, 2].lower())\r\n",
        "        # list of (article, summary)\r\n",
        "        text_pairs.append((data.iloc[i, 2].lower(), data.iloc[i, 1].lower()))\r\n",
        "\r\n",
        "# save full text to text file        \r\n",
        "# with open('full_text.txt', 'w', encoding='utf-8') as file:\r\n",
        "#     file.write('\\n'.join(text_full))  "
      ],
      "execution_count": 7,
      "outputs": [
        {
          "output_type": "stream",
          "text": [
            "100%|██████████| 800975/800975 [00:41<00:00, 19174.03it/s]\n"
          ],
          "name": "stderr"
        }
      ]
    },
    {
      "cell_type": "code",
      "metadata": {
        "id": "3HaJAqFDGEcu",
        "outputId": "6d05080e-927a-45e3-8df2-f1e23c51c230",
        "colab": {
          "base_uri": "https://localhost:8080/"
        }
      },
      "source": [
        "text_pairs[0]"
      ],
      "execution_count": 8,
      "outputs": [
        {
          "output_type": "execute_result",
          "data": {
            "text/plain": [
              "('бои у сопоцкина и друскеник закончились отступлением германцев. неприятель, приблизившись с севера к осовцу начал артиллерийскую борьбу с крепостью. в артиллерийском бою принимают участие тяжелые калибры. с раннего утра 14 сентября огонь достиг значительного напряжения. попытка германской пехоты пробиться ближе к крепости отражена. в галиции мы заняли дембицу. большая колонна, отступавшая по шоссе от перемышля к саноку, обстреливалась с высот нашей батареей и бежала, бросив парки, обоз и автомобили. вылазки гарнизона перемышля остаются безуспешными. при продолжающемся отступлении австрийцев обнаруживается полное перемешивание их частей, захватываются новые партии пленных, орудия и прочая материальная часть. на перевале ужок мы разбили неприятельский отряд, взяли его артиллерию и много пленных и, продолжая преследовать, вступили в пределы венгрии. \\n«русский инвалид», 16 сентября 1914 года.',\n",
              " '1914. русские войска вступили в\\xa0пределы венгрии  ')"
            ]
          },
          "metadata": {
            "tags": []
          },
          "execution_count": 8
        }
      ]
    },
    {
      "cell_type": "markdown",
      "metadata": {
        "id": "uxxoWoTT11HC"
      },
      "source": [
        "## Load / Train BPE tokenizer"
      ]
    },
    {
      "cell_type": "code",
      "metadata": {
        "id": "2L2u9ccqdUyr"
      },
      "source": [
        "# train tokenizer\r\n",
        "# spm.SentencePieceTrainer.train('--input=full_text.txt --pad_id=0 --bos_id=-1 --eos_id=1 --unk_id=2 \\\r\n",
        "#                                --model_prefix=bpe --vocab_size=32000 --model_type=bpe')\r\n",
        "# sp = spm.SentencePieceProcessor()\r\n",
        "# sp.load('/content/drive/MyDrive/bpe.model')"
      ],
      "execution_count": 9,
      "outputs": []
    },
    {
      "cell_type": "markdown",
      "metadata": {
        "id": "zKJ0tetM1znK"
      },
      "source": [
        ""
      ]
    },
    {
      "cell_type": "code",
      "metadata": {
        "colab": {
          "base_uri": "https://localhost:8080/"
        },
        "id": "TcS3BZXUdU2L",
        "outputId": "34141e81-da2d-4d49-8172-ca48254f4698"
      },
      "source": [
        "s0 = text_pairs[10][0]\r\n",
        "text_list = wrapper.wrap(s0[:300])\r\n",
        "for line in text_list:\r\n",
        "    print(line)"
      ],
      "execution_count": 9,
      "outputs": [
        {
          "output_type": "stream",
          "text": [
            "московская межбанковская валютная биржа отменяет с сегодняшнего\n",
            "дняторги по иностранным валютам, входящим в зону евро. отменяются\n",
            "торги по французскому франку, итальянской лире, немецкой и финляндской\n",
            "маркам. биржа отменяет торги по иностранным валютам зоны евро,\n",
            "учитывая адаптацию российских банков\n"
          ],
          "name": "stdout"
        }
      ]
    },
    {
      "cell_type": "code",
      "metadata": {
        "id": "989eG7badU5d"
      },
      "source": [
        "# # tokenizer check\r\n",
        "# print('encode: text => id:')\r\n",
        "# print(sp.encode_as_pieces(s0[:300]))\r\n",
        "# print('')\r\n",
        "# print(sp.encode_as_ids(s0[:300]))\r\n",
        "# print('')\r\n",
        "# print('decode: id => text:')\r\n",
        "# print(sp.decode_pieces(sp.encode_as_pieces(s0[:300])))\r\n",
        "# print('')\r\n",
        "# print(f'Beginning of sentence id: {sp.bos_id()}')\r\n",
        "# print(f'Pad id: {sp.pad_id()}')\r\n",
        "# print(f'End of sentence id: {sp.eos_id()}')\r\n",
        "# print(f'Unknown id: {sp.unk_id()}')\r\n",
        "# print(f'Vocab size: {sp.vocab_size()}')      "
      ],
      "execution_count": 11,
      "outputs": []
    },
    {
      "cell_type": "code",
      "metadata": {
        "id": "2eOS2ZUWdU84"
      },
      "source": [
        "# uid = 18298\r\n",
        "# spiece = \"\\u2581Саха\"\r\n",
        "# unknown = \"_НЕИЗВЕСТНОСТЬ_\"\r\n",
        "\r\n",
        "# # id <=> piece conversion\r\n",
        "# print(f'SentencePiece for ID {uid}: {sp.id_to_piece(uid)}')\r\n",
        "# print(f'ID for Sentence Piece {spiece}: {sp.piece_to_id(spiece)}')\r\n",
        "\r\n",
        "# # returns 0 for unknown tokens (we can change the id for UNK)\r\n",
        "# print(f'ID for unknown text {unknown}: {sp.piece_to_id(unknown)}')"
      ],
      "execution_count": 12,
      "outputs": []
    },
    {
      "cell_type": "code",
      "metadata": {
        "id": "tFOPw70bdVAT"
      },
      "source": [
        "# # vocab's head and tail test\r\n",
        "# print('\\nId\\tSentP\\tControl?')\r\n",
        "# print('------------------------')\r\n",
        "# for uid in range(7):\r\n",
        "#     print(uid, sp.id_to_piece(uid), sp.is_control(uid), sep='\\t')\r\n",
        "    \r\n",
        "# for uid in range(sp.vocab_size()-7,sp.vocab_size()):\r\n",
        "#     print(uid, sp.id_to_piece(uid), sp.is_control(uid), sep='\\t')"
      ],
      "execution_count": 13,
      "outputs": []
    },
    {
      "cell_type": "markdown",
      "metadata": {
        "id": "l2NwNe142mOa"
      },
      "source": [
        "## Data: preprocess and create generators"
      ]
    },
    {
      "cell_type": "code",
      "metadata": {
        "colab": {
          "base_uri": "https://localhost:8080/"
        },
        "id": "nBPM2r5L3s4i",
        "outputId": "d85707d5-68cf-4089-b51f-f80cf5e1ae1f"
      },
      "source": [
        "# inintial shuffling\r\n",
        "random.shuffle(text_pairs)\r\n",
        "margin = int(len(text_pairs)*0.95)\r\n",
        "train_text_pairs = text_pairs[:margin]\r\n",
        "print('train cases: ', len(train_text_pairs))\r\n",
        "eval_text_pairs = text_pairs[margin:]\r\n",
        "print('eval cases: ', len(eval_text_pairs))"
      ],
      "execution_count": 10,
      "outputs": [
        {
          "output_type": "stream",
          "text": [
            "train cases:  272498\n",
            "eval cases:  14342\n"
          ],
          "name": "stdout"
        }
      ]
    },
    {
      "cell_type": "code",
      "metadata": {
        "id": "5UEO4D0w5mtq"
      },
      "source": [
        "def data_generator(data, shuffle=True):\r\n",
        "    '''\r\n",
        "      Input: \r\n",
        "        data - list containing tuples (article, summary)\r\n",
        "        shuffle - If True: shuffle the data order\r\n",
        "      Output:\r\n",
        "        a tuple containing 2 elements:\r\n",
        "        article\r\n",
        "        summary\r\n",
        "    '''\r\n",
        "    \r\n",
        "    data_lng = len(data) # len(data)\r\n",
        "    index_list = [*range(data_lng)] # Create a list with the ordered indexes of sample data\r\n",
        "    \r\n",
        "    index = 0 # Start with the first element\r\n",
        "    while True:\r\n",
        "        # Wrap the index each time that we reach the end of the list\r\n",
        "        if index >= data_lng:\r\n",
        "            index = 0\r\n",
        "            if shuffle:\r\n",
        "                random.shuffle(index_list) # re-shuffle the order\r\n",
        "            \r\n",
        "        sample = data[index_list[index]]\r\n",
        "        index += 1\r\n",
        "        yield(sample)\r\n",
        "\r\n",
        "# create data streams\r\n",
        "def train_data_stream():\r\n",
        "    return data_generator(train_text_pairs, shuffle=True)\r\n",
        "\r\n",
        "def eval_data_stream():\r\n",
        "    return data_generator(eval_text_pairs, shuffle=True)        "
      ],
      "execution_count": 11,
      "outputs": []
    },
    {
      "cell_type": "code",
      "metadata": {
        "id": "tF_P5KCb7hPx",
        "outputId": "4dad0010-0b27-41cb-e293-d824299e72ba",
        "colab": {
          "base_uri": "https://localhost:8080/"
        }
      },
      "source": [
        "PAD, EOS, UNK = 0, 1, 2\r\n",
        "\r\n",
        "def detokenize(np_array):\r\n",
        "    return trax.data.detokenize(\r\n",
        "        np_array,\r\n",
        "        vocab_type='sentencepiece',\r\n",
        "        vocab_file='bpe.model',\r\n",
        "        vocab_dir='/content/drive/MyDrive/')\r\n",
        "\r\n",
        "\r\n",
        "def tokenize(s):\r\n",
        "    return next(trax.data.tokenize(\r\n",
        "        iter([s]),\r\n",
        "        vocab_type='sentencepiece',\r\n",
        "        vocab_file='bpe.model',\r\n",
        "        vocab_dir='/content/drive/MyDrive/'))\r\n",
        " \r\n",
        "    \r\n",
        "vocab_size = trax.data.vocab_size(\r\n",
        "    vocab_type='sentencepiece',\r\n",
        "    vocab_file='bpe.model',\r\n",
        "    vocab_dir='/content/drive/MyDrive/')\r\n",
        "\r\n",
        "print('vocab size: ', vocab_size)"
      ],
      "execution_count": 12,
      "outputs": [
        {
          "output_type": "stream",
          "text": [
            "vocab size:  16000\n"
          ],
          "name": "stdout"
        }
      ]
    },
    {
      "cell_type": "code",
      "metadata": {
        "id": "VgiAbTnyQHuq",
        "outputId": "0f108689-e45d-4def-f787-36285990e9c0",
        "colab": {
          "base_uri": "https://localhost:8080/"
        }
      },
      "source": [
        "tokenize('тест')"
      ],
      "execution_count": 13,
      "outputs": [
        {
          "output_type": "execute_result",
          "data": {
            "text/plain": [
              "array([170,   6])"
            ]
          },
          "metadata": {
            "tags": []
          },
          "execution_count": 13
        }
      ]
    },
    {
      "cell_type": "code",
      "metadata": {
        "id": "yvHY7mzQboWh",
        "outputId": "19073cd0-51ca-4ba8-a526-158215a418b2",
        "colab": {
          "base_uri": "https://localhost:8080/"
        }
      },
      "source": [
        "tokenize('НЕИЗВЕСТНОСТЬ')"
      ],
      "execution_count": 14,
      "outputs": [
        {
          "output_type": "execute_result",
          "data": {
            "text/plain": [
              "array([15924,     2])"
            ]
          },
          "metadata": {
            "tags": []
          },
          "execution_count": 14
        }
      ]
    },
    {
      "cell_type": "code",
      "metadata": {
        "colab": {
          "base_uri": "https://localhost:8080/"
        },
        "id": "jWfl-ORS_fyb",
        "outputId": "f1d1db21-c904-4b4e-b463-899b82d06505"
      },
      "source": [
        "tokenized = tokenize('сведения о пассажирах на всех видах транспорта, где используются именные проездные билеты')\r\n",
        "print('tokenized:')\r\n",
        "print(tokenized)\r\n",
        "print('len=', len(tokenized))\r\n",
        "detokenized = detokenize(tokenized)\r\n",
        "print('detokenized:')\r\n",
        "print(detokenized)\r\n",
        "print('len=', len(detokenized.split()))"
      ],
      "execution_count": 15,
      "outputs": [
        {
          "output_type": "stream",
          "text": [
            "tokenized:\n",
            "[ 3029    12  1090   989    24  1592   265  4343  5415 15947   939 13653\n",
            "  1907   175 11962   175  7287]\n",
            "len= 17\n",
            "detokenized:\n",
            "сведения о пассажирах на всех видах транспорта, где используются именные проездные билеты\n",
            "len= 12\n"
          ],
          "name": "stdout"
        }
      ]
    },
    {
      "cell_type": "code",
      "metadata": {
        "id": "uTKFA_059NFp"
      },
      "source": [
        "# Concatenate tokenized inputs and targets using 0 as separator.\r\n",
        "def preprocess(stream):\r\n",
        "    for (article, summary) in stream:\r\n",
        "        joint = np.array(list(article) + [EOS, PAD] + list(summary) + [EOS])\r\n",
        "        mask = [0] * (len(list(article)) + 2) + [1] * (len(list(summary)) + 1) \r\n",
        "        yield joint, joint, np.array(mask)\r\n",
        "\r\n",
        "# You can combine a few data preprocessing steps into a pipeline like this.\r\n",
        "input_pipeline = trax.data.Serial(\r\n",
        "    # Tokenizes\r\n",
        "    trax.data.Tokenize(vocab_type='sentencepiece',\r\n",
        "                       vocab_dir='/content/drive/MyDrive/',\r\n",
        "                       vocab_file='bpe.model'),\r\n",
        "    # Uses function defined above\r\n",
        "    preprocess,\r\n",
        ")\r\n",
        "\r\n",
        "# Apply preprocessing to data streams.\r\n",
        "train_stream = input_pipeline(train_data_stream())\r\n",
        "eval_stream = input_pipeline(eval_data_stream())"
      ],
      "execution_count": 16,
      "outputs": []
    },
    {
      "cell_type": "code",
      "metadata": {
        "id": "Tshiu0tGHb61"
      },
      "source": [
        "train_input, train_target, train_mask = next(train_stream)\r\n",
        "# assert sum((train_input - train_target)**2) == 0  # They are the same in Language Model (LM)."
      ],
      "execution_count": 17,
      "outputs": []
    },
    {
      "cell_type": "code",
      "metadata": {
        "colab": {
          "base_uri": "https://localhost:8080/"
        },
        "id": "ZA-D8rF6JANP",
        "outputId": "b3efc4db-7623-42b1-df53-8cc94f322385"
      },
      "source": [
        "# check pad (id:0) and sep/eos (id:1)\r\n",
        "print(train_input[-20:])"
      ],
      "execution_count": 18,
      "outputs": [
        {
          "output_type": "stream",
          "text": [
            "[ 1423   667 15242   193  5302 15937   935 15949     1     0   913    24\n",
            " 14115  5607    24 10199   223   934 15932     1]\n"
          ],
          "name": "stdout"
        }
      ]
    },
    {
      "cell_type": "markdown",
      "metadata": {
        "id": "MmjB-_IHLCO4"
      },
      "source": [
        "## Batching and Bucketing "
      ]
    },
    {
      "cell_type": "code",
      "metadata": {
        "id": "wBM6LWbtLJZW"
      },
      "source": [
        "# batch of 8 sentences of length < 256 , 4 of length < 512....\r\n",
        "boundaries =  [256, 512, 1024]\r\n",
        "batch_sizes = [16, 8, 4, 2]\r\n",
        "\r\n",
        "# Create the streams.\r\n",
        "train_batch_stream = trax.data.BucketByLength(\r\n",
        "    boundaries, batch_sizes)(train_stream)\r\n",
        "\r\n",
        "eval_batch_stream = trax.data.BucketByLength(\r\n",
        "    boundaries, batch_sizes)(eval_stream)"
      ],
      "execution_count": 19,
      "outputs": []
    },
    {
      "cell_type": "code",
      "metadata": {
        "colab": {
          "base_uri": "https://localhost:8080/"
        },
        "id": "c6wUSPsJLvnP",
        "outputId": "1a08cd4a-ca5f-4e06-85b6-3086bcc3a8a4"
      },
      "source": [
        "input_batch, _, mask_batch = next(train_batch_stream)\r\n",
        "\r\n",
        "# Shape of the input_batch\r\n",
        "input_batch.shape"
      ],
      "execution_count": 20,
      "outputs": [
        {
          "output_type": "execute_result",
          "data": {
            "text/plain": [
              "(16, 256)"
            ]
          },
          "metadata": {
            "tags": []
          },
          "execution_count": 20
        }
      ]
    },
    {
      "cell_type": "code",
      "metadata": {
        "colab": {
          "base_uri": "https://localhost:8080/"
        },
        "id": "1iuq_rS2MTeM",
        "outputId": "b15b70fb-dbc7-434e-f9a4-bd00b39d7280"
      },
      "source": [
        "# check autopadding endig of sample\r\n",
        "# 1, 0, <not 0 digit>... - end of article and start of summary\r\n",
        "input_batch[0]"
      ],
      "execution_count": 21,
      "outputs": [
        {
          "output_type": "execute_result",
          "data": {
            "text/plain": [
              "array([ 9904,  9849,   197,    76, 15439, 15957,    18,    76, 15041,\n",
              "        5279, 15957,     5,  3059, 15963,  3849, 14538, 14826,    24,\n",
              "        6671,  4389,    81, 15958,    32,   531,  3459, 15947,   156,\n",
              "         573,   843, 15949,    16,   490,  2459,  6580,     5,  8503,\n",
              "        1599,  6182, 12480, 15944,    28, 15947,   324, 10606,   185,\n",
              "           7,  2127,   536,    24,  9878,   175,  8079,   264, 15943,\n",
              "       15949,     4,  1666, 15947,  1413,  5159,   200,   243,     4,\n",
              "        5467,  6473,   285,   175, 10606,   243, 10138,  4555,     4,\n",
              "        2944,    76, 14003,   298,   524,  3484,     4,  1385,  2943,\n",
              "        5829, 15949,    16, 13616,  8588,  7918,  9849,   200, 15947,\n",
              "         696, 12639,    24,  4878,    18,    24,  7700,  2374, 15947,\n",
              "         531,   349,  3226, 11206,    78,  3059, 15985, 11312,     4,\n",
              "        1366,   351,  6490,  1318,    24, 11371, 15958, 11331,  2136,\n",
              "        1304,  4664,  2871,  8079,    10,  4056,    60,  6545,  4585,\n",
              "        1544, 15949,     1,     0,    76, 15439, 15957,    18,    76,\n",
              "       15041,  5279, 15957,    60,  9344,  5690,     1,     0,     0,\n",
              "           0,     0,     0,     0,     0,     0,     0,     0,     0,\n",
              "           0,     0,     0,     0,     0,     0,     0,     0,     0,\n",
              "           0,     0,     0,     0,     0,     0,     0,     0,     0,\n",
              "           0,     0,     0,     0,     0,     0,     0,     0,     0,\n",
              "           0,     0,     0,     0,     0,     0,     0,     0,     0,\n",
              "           0,     0,     0,     0,     0,     0,     0,     0,     0,\n",
              "           0,     0,     0,     0,     0,     0,     0,     0,     0,\n",
              "           0,     0,     0,     0,     0,     0,     0,     0,     0,\n",
              "           0,     0,     0,     0,     0,     0,     0,     0,     0,\n",
              "           0,     0,     0,     0,     0,     0,     0,     0,     0,\n",
              "           0,     0,     0,     0,     0,     0,     0,     0,     0,\n",
              "           0,     0,     0,     0,     0,     0,     0,     0,     0,\n",
              "           0,     0,     0,     0])"
            ]
          },
          "metadata": {
            "tags": []
          },
          "execution_count": 21
        }
      ]
    },
    {
      "cell_type": "markdown",
      "metadata": {
        "id": "qCrsAxgBNv1t"
      },
      "source": [
        "## Transformer Model"
      ]
    },
    {
      "cell_type": "markdown",
      "metadata": {
        "id": "juiM2BOTka_Q"
      },
      "source": [
        "### Positional encoder"
      ]
    },
    {
      "cell_type": "code",
      "metadata": {
        "id": "jSJLcdurkngQ"
      },
      "source": [
        "def PositionalEncoder(vocab_size, d_model, dropout, max_len, mode):\r\n",
        "    \"\"\"Returns a list of layers that: \r\n",
        "    1. takes a block of text as input, \r\n",
        "    2. embeds the words in that text, and \r\n",
        "    3. adds positional encoding, \r\n",
        "       i.e. associates a number in range(max_len) with \r\n",
        "       each word in each sentence of embedded input text \r\n",
        "    \r\n",
        "    The input is a list of tokenized blocks of text\r\n",
        "    \r\n",
        "    Args:\r\n",
        "        vocab_size (int): vocab size.\r\n",
        "        d_model (int):  depth of embedding.\r\n",
        "        dropout (float): dropout rate (how much to drop out).\r\n",
        "        max_len (int): maximum symbol length for positional encoding.\r\n",
        "        mode (str): 'train' or 'eval'.\r\n",
        "    \"\"\"\r\n",
        "    # Embedding inputs and positional encoder\r\n",
        "    return [ \r\n",
        "        # Add embedding layer of dimension (vocab_size, d_model)\r\n",
        "        tl.Embedding(vocab_size, d_model),  \r\n",
        "        # Use dropout with rate and mode specified\r\n",
        "        tl.Dropout(rate=dropout, mode=mode), \r\n",
        "        # Add positional encoding layer with maximum input length and mode specified\r\n",
        "        tl.PositionalEncoding(max_len=max_len, mode=mode)] "
      ],
      "execution_count": 22,
      "outputs": []
    },
    {
      "cell_type": "markdown",
      "metadata": {
        "id": "noeDrbSOk1Mr"
      },
      "source": [
        "### Feed-Forward layer"
      ]
    },
    {
      "cell_type": "code",
      "metadata": {
        "id": "xqzUPRrxknsz"
      },
      "source": [
        "def FeedForward(d_model, d_ff, dropout, mode, ff_activation):\r\n",
        "    \"\"\"Returns a list of layers that implements a feed-forward block.\r\n",
        "\r\n",
        "    The input is an activation tensor.\r\n",
        "\r\n",
        "    Args:\r\n",
        "        d_model (int):  depth of embedding.\r\n",
        "        d_ff (int): depth of feed-forward layer.\r\n",
        "        dropout (float): dropout rate (how much to drop out).\r\n",
        "        mode (str): 'train' or 'eval'.\r\n",
        "        ff_activation (function): the non-linearity in feed-forward layer.\r\n",
        "\r\n",
        "    Returns:\r\n",
        "        list: list of trax.layers.combinators.Serial that maps an activation tensor to an activation tensor.\r\n",
        "    \"\"\"\r\n",
        "    \r\n",
        "    # Feed-forward block (list) with two dense layers with dropout and input normalized\r\n",
        "    return [ \r\n",
        "        # Normalize layer inputs\r\n",
        "        tl.LayerNorm(), \r\n",
        "        # Add first feed forward (dense) layer\r\n",
        "        tl.Dense(d_ff), \r\n",
        "        # Add activation function passed in as a parameter\r\n",
        "        ff_activation(),  # ReLU\r\n",
        "        # Add dropout with rate and mode specified (don't use dropout during evaluation)\r\n",
        "        tl.Dropout(rate=dropout, mode=mode), \r\n",
        "        # Add second feed forward layer\r\n",
        "        tl.Dense(d_model), \r\n",
        "        # Add dropout with rate and mode specified\r\n",
        "        tl.Dropout(rate=dropout, mode=mode) \r\n",
        "    ]"
      ],
      "execution_count": 23,
      "outputs": []
    },
    {
      "cell_type": "markdown",
      "metadata": {
        "id": "6ERXQvXmlGV1"
      },
      "source": [
        "### Decoder Block"
      ]
    },
    {
      "cell_type": "code",
      "metadata": {
        "id": "vBWvL2ayknwD"
      },
      "source": [
        "def DecoderBlock(d_model, d_ff, n_heads,\r\n",
        "                 dropout, mode, ff_activation):\r\n",
        "    \"\"\"Returns a list of layers that implements a Transformer decoder block.\r\n",
        "\r\n",
        "    The input is an activation tensor.\r\n",
        "\r\n",
        "    Args:\r\n",
        "        d_model (int):  depth of embedding.\r\n",
        "        d_ff (int): depth of feed-forward layer.\r\n",
        "        n_heads (int): number of attention heads.\r\n",
        "        dropout (float): dropout rate (how much to drop out).\r\n",
        "        mode (str): 'train' or 'eval'.\r\n",
        "        ff_activation (function): the non-linearity in feed-forward layer.\r\n",
        "\r\n",
        "    Returns:\r\n",
        "        list: list of trax.layers.combinators.Serial that maps an activation tensor to an activation tensor.\r\n",
        "    \"\"\"\r\n",
        "        \r\n",
        "    # List of two Residual blocks: the attention with normalization and dropout and feed-forward blocks\r\n",
        "    return [\r\n",
        "      tl.Residual(\r\n",
        "          # Normalize layer input\r\n",
        "          tl.LayerNorm(), \r\n",
        "          # Add causal attention \r\n",
        "          tl.CausalAttention(d_model, n_heads=n_heads, dropout=dropout, mode=mode) \r\n",
        "        ),\r\n",
        "      tl.Residual(\r\n",
        "          # Add feed-forward block\r\n",
        "          # The feed-forward block takes care of normalization\r\n",
        "          FeedForward(d_model, d_ff, dropout, mode, ff_activation)\r\n",
        "        ),\r\n",
        "      ]"
      ],
      "execution_count": 24,
      "outputs": []
    },
    {
      "cell_type": "markdown",
      "metadata": {
        "id": "TeyDT0rvlVU8"
      },
      "source": [
        "### Trnsformer (decoder)"
      ]
    },
    {
      "cell_type": "code",
      "metadata": {
        "id": "KBjgQXQYkn0d"
      },
      "source": [
        "def SumTransformer(vocab_size=vocab_size,\r\n",
        "                  d_model=512,\r\n",
        "                  d_ff=2048,\r\n",
        "                  n_layers=6,\r\n",
        "                  n_heads=8,\r\n",
        "                  dropout=0.1,\r\n",
        "                  max_len=4096,\r\n",
        "                  mode='train',\r\n",
        "                  ff_activation=tl.Relu):\r\n",
        "    \"\"\"Returns a Transformer language model.\r\n",
        "\r\n",
        "    The input to the model is a tensor of tokens. (This model uses only the\r\n",
        "    decoder part of the overall Transformer.)\r\n",
        "\r\n",
        "    Args:\r\n",
        "        vocab_size (int): vocab size.\r\n",
        "        d_model (int):  depth of embedding.\r\n",
        "        d_ff (int): depth of feed-forward layer.\r\n",
        "        n_layers (int): number of decoder layers.\r\n",
        "        n_heads (int): number of attention heads.\r\n",
        "        dropout (float): dropout rate (how much to drop out).\r\n",
        "        max_len (int): maximum symbol length for positional encoding.\r\n",
        "        mode (str): 'train', 'eval' or 'predict', predict mode is for fast inference.\r\n",
        "        ff_activation (function): the non-linearity in feed-forward layer.\r\n",
        "\r\n",
        "    Returns:\r\n",
        "        trax.layers.combinators.Serial: A Transformer language model as a layer that maps from a tensor of tokens\r\n",
        "        to activations over a vocab set.\r\n",
        "    \"\"\"\r\n",
        "    \r\n",
        "    # Stack of decoder blocks with n_layers with necessary parameters\r\n",
        "    decoder_blocks = [ \r\n",
        "        DecoderBlock(d_model, d_ff, n_heads, dropout, mode, ff_activation) for _ in range(n_layers)] \r\n",
        "\r\n",
        "    # The complete model\r\n",
        "    return tl.Serial(\r\n",
        "        # Use teacher forcing (feed output of previous step to current step)\r\n",
        "        tl.ShiftRight(mode=mode), \r\n",
        "        # Add embedding inputs and positional encoder\r\n",
        "        PositionalEncoder(vocab_size, d_model, dropout, max_len, mode),\r\n",
        "        # Add decoder blocks\r\n",
        "        decoder_blocks, \r\n",
        "        # Normalize layer\r\n",
        "        tl.LayerNorm(), \r\n",
        "\r\n",
        "        # Add dense layer of vocab_size (since need to select a word to translate to)\r\n",
        "        # (a.k.a., logits layer. Note: activation already set by ff_activation)\r\n",
        "        tl.Dense(vocab_size), \r\n",
        "        # Get probabilities with Logsoftmax\r\n",
        "        tl.LogSoftmax() \r\n",
        "    )"
      ],
      "execution_count": 25,
      "outputs": []
    },
    {
      "cell_type": "code",
      "metadata": {
        "colab": {
          "base_uri": "https://localhost:8080/"
        },
        "id": "6N-ElzVnlxjr",
        "outputId": "48fe890e-b2da-4d42-ce9c-4d2a23b486d2"
      },
      "source": [
        "print(SumTransformer(n_layers=1))"
      ],
      "execution_count": 26,
      "outputs": [
        {
          "output_type": "stream",
          "text": [
            "Serial[\n",
            "  Serial[\n",
            "    ShiftRight(1)\n",
            "  ]\n",
            "  Embedding_16000_512\n",
            "  Dropout\n",
            "  PositionalEncoding\n",
            "  Serial[\n",
            "    Branch_out2[\n",
            "      None\n",
            "      Serial[\n",
            "        LayerNorm\n",
            "        Serial[\n",
            "          Serial[\n",
            "            Serial[\n",
            "              Branch_out3[\n",
            "                [Dense_512, Serial[\n",
            "                  SplitIntoHeads\n",
            "                ]]\n",
            "                [Dense_512, Serial[\n",
            "                  SplitIntoHeads\n",
            "                ]]\n",
            "                [Dense_512, Serial[\n",
            "                  SplitIntoHeads\n",
            "                ]]\n",
            "              ]\n",
            "              DotProductCausalAttention_in3\n",
            "              Serial[\n",
            "                MergeHeads\n",
            "              ]\n",
            "              Dense_512\n",
            "            ]\n",
            "          ]\n",
            "        ]\n",
            "      ]\n",
            "    ]\n",
            "    Add_in2\n",
            "  ]\n",
            "  Serial[\n",
            "    Branch_out2[\n",
            "      None\n",
            "      Serial[\n",
            "        LayerNorm\n",
            "        Dense_2048\n",
            "        Serial[\n",
            "          Relu\n",
            "        ]\n",
            "        Dropout\n",
            "        Dense_512\n",
            "        Dropout\n",
            "      ]\n",
            "    ]\n",
            "    Add_in2\n",
            "  ]\n",
            "  LayerNorm\n",
            "  Dense_16000\n",
            "  LogSoftmax\n",
            "]\n"
          ],
          "name": "stdout"
        }
      ]
    },
    {
      "cell_type": "markdown",
      "metadata": {
        "id": "H2n63WBWmE1-"
      },
      "source": [
        "## Training"
      ]
    },
    {
      "cell_type": "code",
      "metadata": {
        "id": "zytlBNiWN13D"
      },
      "source": [
        "from trax.supervised import training\r\n",
        "\r\n",
        "def training_loop(SumTransformer, train_gen, eval_gen, output_dir = \"~/model\"):\r\n",
        "    '''\r\n",
        "    Input:\r\n",
        "        SumTransformer (trax.layers.combinators.Serial): The transformer model.\r\n",
        "        train_gen (generator): Training stream of data.\r\n",
        "        eval_gen (generator): Evaluation stream of data.\r\n",
        "        output_dir (str): folder to save your file.\r\n",
        "        \r\n",
        "    Returns:\r\n",
        "        trax.supervised.training.Loop: Training loop.\r\n",
        "    '''\r\n",
        "    output_dir = os.path.expanduser(output_dir)  # trainer is an object\r\n",
        "    lr_schedule = trax.lr.warmup_and_rsqrt_decay(n_warmup_steps=1000, max_value=0.01)\r\n",
        "\r\n",
        "    train_task = training.TrainTask( \r\n",
        "      labeled_data=train_gen, # The training generator\r\n",
        "      loss_layer=tl.CrossEntropyLoss(), # Loss function \r\n",
        "      optimizer=trax.optimizers.Adam(0.01), # Optimizer \r\n",
        "      lr_schedule=lr_schedule,\r\n",
        "      n_steps_per_checkpoint=100\r\n",
        "    )\r\n",
        "\r\n",
        "    eval_task = training.EvalTask( \r\n",
        "      labeled_data=eval_gen, \r\n",
        "      metrics=[tl.CrossEntropyLoss(), tl.Accuracy()] \r\n",
        "    )\r\n",
        "\r\n",
        "    loop = training.Loop(SumTransformer(d_model=512,\r\n",
        "                                       d_ff=2048,\r\n",
        "                                       n_layers=16,\r\n",
        "                                       n_heads=8,\r\n",
        "                                       mode='train'),\r\n",
        "                         train_task,\r\n",
        "                         eval_tasks=[eval_task],\r\n",
        "                         output_dir=output_dir)\r\n",
        "    \r\n",
        "    return loop"
      ],
      "execution_count": 33,
      "outputs": []
    },
    {
      "cell_type": "code",
      "metadata": {
        "colab": {
          "base_uri": "https://localhost:8080/",
          "height": 1000
        },
        "id": "f7JVjnU1nAxv",
        "outputId": "e4c393d7-46f9-4bbe-804f-244a3f93c1b4"
      },
      "source": [
        "# Should take around 2 minute per 10 step on GPU\r\n",
        "!rm -f ~/model/model.pkl.gz\r\n",
        "loop = training_loop(SumTransformer, train_batch_stream, eval_batch_stream)\r\n",
        "loop.run(10000)"
      ],
      "execution_count": 34,
      "outputs": [
        {
          "output_type": "stream",
          "text": [
            "\n",
            "Step      1: Total number of trainable weights: 68936320\n",
            "Step      1: Ran 1 train steps in 81.76 secs\n",
            "Step      1: train CrossEntropyLoss |  9.71016598\n",
            "Step      1: eval  CrossEntropyLoss |  9.70370579\n",
            "Step      1: eval          Accuracy |  0.00000000\n",
            "\n",
            "Step    100: Ran 99 train steps in 140.09 secs\n",
            "Step    100: train CrossEntropyLoss |  8.41812229\n",
            "Step    100: eval  CrossEntropyLoss |  8.26975155\n",
            "Step    100: eval          Accuracy |  0.08421053\n",
            "\n",
            "Step    200: Ran 100 train steps in 95.73 secs\n",
            "Step    200: train CrossEntropyLoss |  8.19430065\n",
            "Step    200: eval  CrossEntropyLoss |  8.23072910\n",
            "Step    200: eval          Accuracy |  0.08040201\n",
            "\n",
            "Step    300: Ran 100 train steps in 95.19 secs\n",
            "Step    300: train CrossEntropyLoss |  8.08719444\n",
            "Step    300: eval  CrossEntropyLoss |  8.11198425\n",
            "Step    300: eval          Accuracy |  0.05970149\n",
            "\n",
            "Step    400: Ran 100 train steps in 95.52 secs\n",
            "Step    400: train CrossEntropyLoss |  8.00811577\n",
            "Step    400: eval  CrossEntropyLoss |  7.98973465\n",
            "Step    400: eval          Accuracy |  0.08333334\n",
            "\n",
            "Step    500: Ran 100 train steps in 95.41 secs\n",
            "Step    500: train CrossEntropyLoss |  7.99691200\n",
            "Step    500: eval  CrossEntropyLoss |  8.10597134\n",
            "Step    500: eval          Accuracy |  0.07619048\n",
            "\n",
            "Step    600: Ran 100 train steps in 95.75 secs\n",
            "Step    600: train CrossEntropyLoss |  7.97274160\n",
            "Step    600: eval  CrossEntropyLoss |  7.83600140\n",
            "Step    600: eval          Accuracy |  0.07843138\n",
            "\n",
            "Step    700: Ran 100 train steps in 95.85 secs\n",
            "Step    700: train CrossEntropyLoss |  7.95278978\n",
            "Step    700: eval  CrossEntropyLoss |  7.92127991\n",
            "Step    700: eval          Accuracy |  0.05882353\n",
            "\n",
            "Step    800: Ran 100 train steps in 95.55 secs\n",
            "Step    800: train CrossEntropyLoss |  7.95135927\n",
            "Step    800: eval  CrossEntropyLoss |  7.88759470\n",
            "Step    800: eval          Accuracy |  0.07804878\n",
            "\n",
            "Step    900: Ran 100 train steps in 96.07 secs\n",
            "Step    900: train CrossEntropyLoss |  7.96702480\n",
            "Step    900: eval  CrossEntropyLoss |  7.84176683\n",
            "Step    900: eval          Accuracy |  0.07079646\n",
            "\n",
            "Step   1000: Ran 100 train steps in 95.63 secs\n",
            "Step   1000: train CrossEntropyLoss |  7.95185757\n",
            "Step   1000: eval  CrossEntropyLoss |  8.10531712\n",
            "Step   1000: eval          Accuracy |  0.08080808\n",
            "\n",
            "Step   1100: Ran 100 train steps in 94.76 secs\n",
            "Step   1100: train CrossEntropyLoss |  7.93344545\n",
            "Step   1100: eval  CrossEntropyLoss |  7.67508602\n",
            "Step   1100: eval          Accuracy |  0.08695652\n",
            "\n",
            "Step   1200: Ran 100 train steps in 95.14 secs\n",
            "Step   1200: train CrossEntropyLoss |  7.92069769\n",
            "Step   1200: eval  CrossEntropyLoss |  8.07691860\n",
            "Step   1200: eval          Accuracy |  0.06837607\n",
            "\n",
            "Step   1300: Ran 100 train steps in 95.01 secs\n",
            "Step   1300: train CrossEntropyLoss |  7.91020203\n",
            "Step   1300: eval  CrossEntropyLoss |  7.68046045\n",
            "Step   1300: eval          Accuracy |  0.08040201\n",
            "\n",
            "Step   1400: Ran 100 train steps in 94.82 secs\n",
            "Step   1400: train CrossEntropyLoss |  7.91624260\n",
            "Step   1400: eval  CrossEntropyLoss |  7.84270048\n",
            "Step   1400: eval          Accuracy |  0.07692308\n",
            "\n",
            "Step   1500: Ran 100 train steps in 95.06 secs\n",
            "Step   1500: train CrossEntropyLoss |  7.89844322\n",
            "Step   1500: eval  CrossEntropyLoss |  7.95189095\n",
            "Step   1500: eval          Accuracy |  0.08247423\n",
            "\n",
            "Step   1600: Ran 100 train steps in 94.80 secs\n",
            "Step   1600: train CrossEntropyLoss |  7.88432074\n",
            "Step   1600: eval  CrossEntropyLoss |  7.73708439\n",
            "Step   1600: eval          Accuracy |  0.06896552\n",
            "\n",
            "Step   1700: Ran 100 train steps in 94.83 secs\n",
            "Step   1700: train CrossEntropyLoss |  7.88325548\n",
            "Step   1700: eval  CrossEntropyLoss |  8.06354618\n",
            "Step   1700: eval          Accuracy |  0.08163265\n",
            "\n",
            "Step   1800: Ran 100 train steps in 94.97 secs\n",
            "Step   1800: train CrossEntropyLoss |  7.88435793\n",
            "Step   1800: eval  CrossEntropyLoss |  8.14088631\n",
            "Step   1800: eval          Accuracy |  0.07881773\n",
            "\n",
            "Step   1900: Ran 100 train steps in 94.97 secs\n",
            "Step   1900: train CrossEntropyLoss |  7.86190271\n",
            "Step   1900: eval  CrossEntropyLoss |  8.02269650\n",
            "Step   1900: eval          Accuracy |  0.08556150\n",
            "\n",
            "Step   2000: Ran 100 train steps in 95.16 secs\n",
            "Step   2000: train CrossEntropyLoss |  7.91131639\n",
            "Step   2000: eval  CrossEntropyLoss |  7.85382700\n",
            "Step   2000: eval          Accuracy |  0.08247423\n",
            "\n",
            "Step   2100: Ran 100 train steps in 95.16 secs\n",
            "Step   2100: train CrossEntropyLoss |  7.85337162\n",
            "Step   2100: eval  CrossEntropyLoss |  7.88846636\n",
            "Step   2100: eval          Accuracy |  0.07619048\n",
            "\n",
            "Step   2200: Ran 100 train steps in 95.12 secs\n",
            "Step   2200: train CrossEntropyLoss |  7.87218475\n",
            "Step   2200: eval  CrossEntropyLoss |  7.69736528\n",
            "Step   2200: eval          Accuracy |  0.07142857\n",
            "\n",
            "Step   2300: Ran 100 train steps in 95.11 secs\n",
            "Step   2300: train CrossEntropyLoss |  7.86002254\n",
            "Step   2300: eval  CrossEntropyLoss |  7.78447056\n",
            "Step   2300: eval          Accuracy |  0.09090909\n",
            "\n",
            "Step   2400: Ran 100 train steps in 94.91 secs\n",
            "Step   2400: train CrossEntropyLoss |  7.88329983\n",
            "Step   2400: eval  CrossEntropyLoss |  7.96954393\n",
            "Step   2400: eval          Accuracy |  0.08080808\n",
            "\n",
            "Step   2500: Ran 100 train steps in 94.88 secs\n",
            "Step   2500: train CrossEntropyLoss |  7.90160370\n",
            "Step   2500: eval  CrossEntropyLoss |  7.71343708\n",
            "Step   2500: eval          Accuracy |  0.08080808\n",
            "\n",
            "Step   2600: Ran 100 train steps in 95.01 secs\n",
            "Step   2600: train CrossEntropyLoss |  7.89076662\n",
            "Step   2600: eval  CrossEntropyLoss |  7.79630041\n",
            "Step   2600: eval          Accuracy |  0.07960199\n",
            "\n",
            "Step   2700: Ran 100 train steps in 98.49 secs\n",
            "Step   2700: train CrossEntropyLoss |  7.85796928\n",
            "Step   2700: eval  CrossEntropyLoss |  7.92413855\n",
            "Step   2700: eval          Accuracy |  0.07843138\n",
            "\n",
            "Step   2800: Ran 100 train steps in 99.71 secs\n",
            "Step   2800: train CrossEntropyLoss |  7.85438108\n",
            "Step   2800: eval  CrossEntropyLoss |  7.92904806\n",
            "Step   2800: eval          Accuracy |  0.08556150\n",
            "\n",
            "Step   2900: Ran 100 train steps in 99.04 secs\n",
            "Step   2900: train CrossEntropyLoss |  7.87071037\n",
            "Step   2900: eval  CrossEntropyLoss |  7.89076757\n",
            "Step   2900: eval          Accuracy |  0.07843138\n",
            "\n",
            "Step   3000: Ran 100 train steps in 99.22 secs\n",
            "Step   3000: train CrossEntropyLoss |  7.85770750\n",
            "Step   3000: eval  CrossEntropyLoss |  8.03558540\n",
            "Step   3000: eval          Accuracy |  0.08465609\n",
            "\n",
            "Step   3100: Ran 100 train steps in 99.02 secs\n",
            "Step   3100: train CrossEntropyLoss |  7.83705187\n",
            "Step   3100: eval  CrossEntropyLoss |  7.70800209\n",
            "Step   3100: eval          Accuracy |  0.07441860\n",
            "\n",
            "Step   3200: Ran 100 train steps in 99.51 secs\n",
            "Step   3200: train CrossEntropyLoss |  7.85365725\n",
            "Step   3200: eval  CrossEntropyLoss |  7.89835119\n",
            "Step   3200: eval          Accuracy |  0.07476635\n",
            "\n",
            "Step   3300: Ran 100 train steps in 99.20 secs\n",
            "Step   3300: train CrossEntropyLoss |  7.88096380\n",
            "Step   3300: eval  CrossEntropyLoss |  7.75071955\n",
            "Step   3300: eval          Accuracy |  0.07655503\n",
            "\n",
            "Step   3400: Ran 100 train steps in 99.61 secs\n",
            "Step   3400: train CrossEntropyLoss |  7.84928083\n",
            "Step   3400: eval  CrossEntropyLoss |  7.95267153\n",
            "Step   3400: eval          Accuracy |  0.08888889\n",
            "\n",
            "Step   3500: Ran 100 train steps in 99.79 secs\n",
            "Step   3500: train CrossEntropyLoss |  7.85755348\n",
            "Step   3500: eval  CrossEntropyLoss |  7.64419031\n",
            "Step   3500: eval          Accuracy |  0.07339449\n",
            "\n",
            "Step   3600: Ran 100 train steps in 100.03 secs\n",
            "Step   3600: train CrossEntropyLoss |  7.87185240\n",
            "Step   3600: eval  CrossEntropyLoss |  7.63670683\n",
            "Step   3600: eval          Accuracy |  0.06986900\n",
            "\n",
            "Step   3700: Ran 100 train steps in 99.77 secs\n",
            "Step   3700: train CrossEntropyLoss |  7.85156345\n",
            "Step   3700: eval  CrossEntropyLoss |  7.90990305\n",
            "Step   3700: eval          Accuracy |  0.08163265\n",
            "\n",
            "Step   3800: Ran 100 train steps in 99.83 secs\n",
            "Step   3800: train CrossEntropyLoss |  7.85007286\n",
            "Step   3800: eval  CrossEntropyLoss |  7.68234396\n",
            "Step   3800: eval          Accuracy |  0.07692308\n",
            "\n",
            "Step   3900: Ran 100 train steps in 99.08 secs\n",
            "Step   3900: train CrossEntropyLoss |  7.86874247\n",
            "Step   3900: eval  CrossEntropyLoss |  7.94039440\n",
            "Step   3900: eval          Accuracy |  0.06722689\n",
            "\n",
            "Step   4000: Ran 100 train steps in 97.52 secs\n",
            "Step   4000: train CrossEntropyLoss |  7.81677580\n",
            "Step   4000: eval  CrossEntropyLoss |  7.77094746\n",
            "Step   4000: eval          Accuracy |  0.08247423\n",
            "\n",
            "Step   4100: Ran 100 train steps in 97.27 secs\n",
            "Step   4100: train CrossEntropyLoss |  7.85691166\n",
            "Step   4100: eval  CrossEntropyLoss |  7.67105675\n",
            "Step   4100: eval          Accuracy |  0.08421053\n",
            "\n",
            "Step   4200: Ran 100 train steps in 97.09 secs\n",
            "Step   4200: train CrossEntropyLoss |  7.82781887\n",
            "Step   4200: eval  CrossEntropyLoss |  7.91420555\n",
            "Step   4200: eval          Accuracy |  0.08290156\n",
            "\n",
            "Step   4300: Ran 100 train steps in 97.01 secs\n",
            "Step   4300: train CrossEntropyLoss |  7.83494616\n",
            "Step   4300: eval  CrossEntropyLoss |  7.88034105\n",
            "Step   4300: eval          Accuracy |  0.07476635\n",
            "\n",
            "Step   4400: Ran 100 train steps in 96.85 secs\n",
            "Step   4400: train CrossEntropyLoss |  7.83040380\n",
            "Step   4400: eval  CrossEntropyLoss |  7.71921349\n",
            "Step   4400: eval          Accuracy |  0.07373272\n",
            "\n",
            "Step   4500: Ran 100 train steps in 97.05 secs\n",
            "Step   4500: train CrossEntropyLoss |  7.81306744\n",
            "Step   4500: eval  CrossEntropyLoss |  7.89862919\n",
            "Step   4500: eval          Accuracy |  0.08839779\n",
            "\n",
            "Step   4600: Ran 100 train steps in 97.27 secs\n",
            "Step   4600: train CrossEntropyLoss |  7.82145739\n",
            "Step   4600: eval  CrossEntropyLoss |  7.81554079\n",
            "Step   4600: eval          Accuracy |  0.08080808\n",
            "\n",
            "Step   4700: Ran 100 train steps in 97.36 secs\n",
            "Step   4700: train CrossEntropyLoss |  7.84391689\n",
            "Step   4700: eval  CrossEntropyLoss |  7.89761496\n",
            "Step   4700: eval          Accuracy |  0.07339449\n",
            "\n",
            "Step   4800: Ran 100 train steps in 97.32 secs\n",
            "Step   4800: train CrossEntropyLoss |  7.82337523\n",
            "Step   4800: eval  CrossEntropyLoss |  7.85397625\n",
            "Step   4800: eval          Accuracy |  0.07017544\n",
            "\n",
            "Step   4900: Ran 100 train steps in 97.02 secs\n",
            "Step   4900: train CrossEntropyLoss |  7.84210920\n",
            "Step   4900: eval  CrossEntropyLoss |  7.77283812\n",
            "Step   4900: eval          Accuracy |  0.07476635\n",
            "\n",
            "Step   5000: Ran 100 train steps in 97.05 secs\n",
            "Step   5000: train CrossEntropyLoss |  7.83737040\n",
            "Step   5000: eval  CrossEntropyLoss |  7.96792650\n",
            "Step   5000: eval          Accuracy |  0.09090909\n",
            "\n",
            "Step   5100: Ran 100 train steps in 96.89 secs\n",
            "Step   5100: train CrossEntropyLoss |  7.84106922\n",
            "Step   5100: eval  CrossEntropyLoss |  7.91017199\n",
            "Step   5100: eval          Accuracy |  0.08762887\n",
            "\n",
            "Step   5200: Ran 100 train steps in 96.92 secs\n",
            "Step   5200: train CrossEntropyLoss |  7.84095144\n",
            "Step   5200: eval  CrossEntropyLoss |  7.61479425\n",
            "Step   5200: eval          Accuracy |  0.07843138\n",
            "\n",
            "Step   5300: Ran 100 train steps in 96.92 secs\n",
            "Step   5300: train CrossEntropyLoss |  7.82405233\n",
            "Step   5300: eval  CrossEntropyLoss |  7.94600964\n",
            "Step   5300: eval          Accuracy |  0.08510638\n"
          ],
          "name": "stdout"
        },
        {
          "output_type": "error",
          "ename": "KeyboardInterrupt",
          "evalue": "ignored",
          "traceback": [
            "\u001b[0;31m---------------------------------------------------------------------------\u001b[0m",
            "\u001b[0;31mKeyboardInterrupt\u001b[0m                         Traceback (most recent call last)",
            "\u001b[0;32m<ipython-input-34-609d62b1b8e4>\u001b[0m in \u001b[0;36m<module>\u001b[0;34m()\u001b[0m\n\u001b[1;32m      2\u001b[0m \u001b[0mget_ipython\u001b[0m\u001b[0;34m(\u001b[0m\u001b[0;34m)\u001b[0m\u001b[0;34m.\u001b[0m\u001b[0msystem\u001b[0m\u001b[0;34m(\u001b[0m\u001b[0;34m'rm -f ~/model/model.pkl.gz'\u001b[0m\u001b[0;34m)\u001b[0m\u001b[0;34m\u001b[0m\u001b[0;34m\u001b[0m\u001b[0m\n\u001b[1;32m      3\u001b[0m \u001b[0mloop\u001b[0m \u001b[0;34m=\u001b[0m \u001b[0mtraining_loop\u001b[0m\u001b[0;34m(\u001b[0m\u001b[0mSumTransformer\u001b[0m\u001b[0;34m,\u001b[0m \u001b[0mtrain_batch_stream\u001b[0m\u001b[0;34m,\u001b[0m \u001b[0meval_batch_stream\u001b[0m\u001b[0;34m)\u001b[0m\u001b[0;34m\u001b[0m\u001b[0;34m\u001b[0m\u001b[0m\n\u001b[0;32m----> 4\u001b[0;31m \u001b[0mloop\u001b[0m\u001b[0;34m.\u001b[0m\u001b[0mrun\u001b[0m\u001b[0;34m(\u001b[0m\u001b[0;36m10000\u001b[0m\u001b[0;34m)\u001b[0m\u001b[0;34m\u001b[0m\u001b[0;34m\u001b[0m\u001b[0m\n\u001b[0m",
            "\u001b[0;32m/usr/local/lib/python3.6/dist-packages/trax/supervised/training.py\u001b[0m in \u001b[0;36mrun\u001b[0;34m(self, n_steps)\u001b[0m\n\u001b[1;32m    380\u001b[0m \u001b[0;34m\u001b[0m\u001b[0m\n\u001b[1;32m    381\u001b[0m         \u001b[0;32mif\u001b[0m \u001b[0mself\u001b[0m\u001b[0;34m.\u001b[0m\u001b[0m_checkpoint_at\u001b[0m\u001b[0;34m(\u001b[0m\u001b[0mself\u001b[0m\u001b[0;34m.\u001b[0m\u001b[0mstep\u001b[0m\u001b[0;34m)\u001b[0m\u001b[0;34m:\u001b[0m\u001b[0;34m\u001b[0m\u001b[0;34m\u001b[0m\u001b[0m\n\u001b[0;32m--> 382\u001b[0;31m           \u001b[0mself\u001b[0m\u001b[0;34m.\u001b[0m\u001b[0msave_checkpoint\u001b[0m\u001b[0;34m(\u001b[0m\u001b[0;34m)\u001b[0m\u001b[0;34m\u001b[0m\u001b[0;34m\u001b[0m\u001b[0m\n\u001b[0m\u001b[1;32m    383\u001b[0m         \u001b[0;32mif\u001b[0m \u001b[0mself\u001b[0m\u001b[0;34m.\u001b[0m\u001b[0m_permanent_checkpoint_at\u001b[0m\u001b[0;34m(\u001b[0m\u001b[0mself\u001b[0m\u001b[0;34m.\u001b[0m\u001b[0mstep\u001b[0m\u001b[0;34m)\u001b[0m\u001b[0;34m:\u001b[0m\u001b[0;34m\u001b[0m\u001b[0;34m\u001b[0m\u001b[0m\n\u001b[1;32m    384\u001b[0m           \u001b[0mself\u001b[0m\u001b[0;34m.\u001b[0m\u001b[0msave_checkpoint\u001b[0m\u001b[0;34m(\u001b[0m\u001b[0mpermanent\u001b[0m\u001b[0;34m=\u001b[0m\u001b[0;32mTrue\u001b[0m\u001b[0;34m)\u001b[0m\u001b[0;34m\u001b[0m\u001b[0;34m\u001b[0m\u001b[0m\n",
            "\u001b[0;32m/usr/local/lib/python3.6/dist-packages/trax/supervised/training.py\u001b[0m in \u001b[0;36msave_checkpoint\u001b[0;34m(self, permanent)\u001b[0m\n\u001b[1;32m    693\u001b[0m         \u001b[0;34m'version_timestamp'\u001b[0m\u001b[0;34m:\u001b[0m \u001b[0;34m'Oct-28-2020'\u001b[0m  \u001b[0;31m# To update in the future if needed.\u001b[0m\u001b[0;34m\u001b[0m\u001b[0;34m\u001b[0m\u001b[0m\n\u001b[1;32m    694\u001b[0m     }\n\u001b[0;32m--> 695\u001b[0;31m     \u001b[0mpickle_to_file\u001b[0m\u001b[0;34m(\u001b[0m\u001b[0md\u001b[0m\u001b[0;34m,\u001b[0m \u001b[0mckpt_file\u001b[0m\u001b[0;34m,\u001b[0m \u001b[0mgzip\u001b[0m\u001b[0;34m=\u001b[0m\u001b[0;32mTrue\u001b[0m\u001b[0;34m)\u001b[0m\u001b[0;34m\u001b[0m\u001b[0;34m\u001b[0m\u001b[0m\n\u001b[0m\u001b[1;32m    696\u001b[0m     \u001b[0;31m# Move sharded files to non-tmp files after all is saved.\u001b[0m\u001b[0;34m\u001b[0m\u001b[0;34m\u001b[0m\u001b[0;34m\u001b[0m\u001b[0m\n\u001b[1;32m    697\u001b[0m     \u001b[0;32mif\u001b[0m \u001b[0mself\u001b[0m\u001b[0;34m.\u001b[0m\u001b[0m_use_memory_efficient_trainer\u001b[0m\u001b[0;34m:\u001b[0m\u001b[0;34m\u001b[0m\u001b[0;34m\u001b[0m\u001b[0m\n",
            "\u001b[0;32m/usr/local/lib/python3.6/dist-packages/trax/supervised/training.py\u001b[0m in \u001b[0;36mpickle_to_file\u001b[0;34m(obj, file_path, gzip)\u001b[0m\n\u001b[1;32m   1051\u001b[0m     \u001b[0;32melse\u001b[0m\u001b[0;34m:\u001b[0m\u001b[0;34m\u001b[0m\u001b[0;34m\u001b[0m\u001b[0m\n\u001b[1;32m   1052\u001b[0m       \u001b[0;32mwith\u001b[0m \u001b[0mgzip_lib\u001b[0m\u001b[0;34m.\u001b[0m\u001b[0mGzipFile\u001b[0m\u001b[0;34m(\u001b[0m\u001b[0mfileobj\u001b[0m\u001b[0;34m=\u001b[0m\u001b[0mf\u001b[0m\u001b[0;34m,\u001b[0m \u001b[0mcompresslevel\u001b[0m\u001b[0;34m=\u001b[0m\u001b[0;36m2\u001b[0m\u001b[0;34m)\u001b[0m \u001b[0;32mas\u001b[0m \u001b[0mgzipf\u001b[0m\u001b[0;34m:\u001b[0m\u001b[0;34m\u001b[0m\u001b[0;34m\u001b[0m\u001b[0m\n\u001b[0;32m-> 1053\u001b[0;31m         \u001b[0mpickle\u001b[0m\u001b[0;34m.\u001b[0m\u001b[0mdump\u001b[0m\u001b[0;34m(\u001b[0m\u001b[0mobj\u001b[0m\u001b[0;34m,\u001b[0m \u001b[0mgzipf\u001b[0m\u001b[0;34m,\u001b[0m \u001b[0mprotocol\u001b[0m\u001b[0;34m=\u001b[0m\u001b[0mpickle\u001b[0m\u001b[0;34m.\u001b[0m\u001b[0mHIGHEST_PROTOCOL\u001b[0m\u001b[0;34m)\u001b[0m\u001b[0;34m\u001b[0m\u001b[0;34m\u001b[0m\u001b[0m\n\u001b[0m\u001b[1;32m   1054\u001b[0m   \u001b[0;31m# Moving a file is much less error-prone than pickling large files.\u001b[0m\u001b[0;34m\u001b[0m\u001b[0;34m\u001b[0m\u001b[0;34m\u001b[0m\u001b[0m\n\u001b[1;32m   1055\u001b[0m   \u001b[0mtf\u001b[0m\u001b[0;34m.\u001b[0m\u001b[0mio\u001b[0m\u001b[0;34m.\u001b[0m\u001b[0mgfile\u001b[0m\u001b[0;34m.\u001b[0m\u001b[0mrename\u001b[0m\u001b[0;34m(\u001b[0m\u001b[0mtmp_file_path\u001b[0m\u001b[0;34m,\u001b[0m \u001b[0mfile_path\u001b[0m\u001b[0;34m,\u001b[0m \u001b[0moverwrite\u001b[0m\u001b[0;34m=\u001b[0m\u001b[0;32mTrue\u001b[0m\u001b[0;34m)\u001b[0m\u001b[0;34m\u001b[0m\u001b[0;34m\u001b[0m\u001b[0m\n",
            "\u001b[0;32m/usr/lib/python3.6/gzip.py\u001b[0m in \u001b[0;36mwrite\u001b[0;34m(self, data)\u001b[0m\n\u001b[1;32m    262\u001b[0m \u001b[0;34m\u001b[0m\u001b[0m\n\u001b[1;32m    263\u001b[0m         \u001b[0;32mif\u001b[0m \u001b[0mlength\u001b[0m \u001b[0;34m>\u001b[0m \u001b[0;36m0\u001b[0m\u001b[0;34m:\u001b[0m\u001b[0;34m\u001b[0m\u001b[0;34m\u001b[0m\u001b[0m\n\u001b[0;32m--> 264\u001b[0;31m             \u001b[0mself\u001b[0m\u001b[0;34m.\u001b[0m\u001b[0mfileobj\u001b[0m\u001b[0;34m.\u001b[0m\u001b[0mwrite\u001b[0m\u001b[0;34m(\u001b[0m\u001b[0mself\u001b[0m\u001b[0;34m.\u001b[0m\u001b[0mcompress\u001b[0m\u001b[0;34m.\u001b[0m\u001b[0mcompress\u001b[0m\u001b[0;34m(\u001b[0m\u001b[0mdata\u001b[0m\u001b[0;34m)\u001b[0m\u001b[0;34m)\u001b[0m\u001b[0;34m\u001b[0m\u001b[0;34m\u001b[0m\u001b[0m\n\u001b[0m\u001b[1;32m    265\u001b[0m             \u001b[0mself\u001b[0m\u001b[0;34m.\u001b[0m\u001b[0msize\u001b[0m \u001b[0;34m+=\u001b[0m \u001b[0mlength\u001b[0m\u001b[0;34m\u001b[0m\u001b[0;34m\u001b[0m\u001b[0m\n\u001b[1;32m    266\u001b[0m             \u001b[0mself\u001b[0m\u001b[0;34m.\u001b[0m\u001b[0mcrc\u001b[0m \u001b[0;34m=\u001b[0m \u001b[0mzlib\u001b[0m\u001b[0;34m.\u001b[0m\u001b[0mcrc32\u001b[0m\u001b[0;34m(\u001b[0m\u001b[0mdata\u001b[0m\u001b[0;34m,\u001b[0m \u001b[0mself\u001b[0m\u001b[0;34m.\u001b[0m\u001b[0mcrc\u001b[0m\u001b[0;34m)\u001b[0m\u001b[0;34m\u001b[0m\u001b[0;34m\u001b[0m\u001b[0m\n",
            "\u001b[0;31mKeyboardInterrupt\u001b[0m: "
          ]
        }
      ]
    },
    {
      "cell_type": "code",
      "metadata": {
        "id": "4dyYwnk_1i56"
      },
      "source": [
        "# !cp model/model.pkl.gz /content/drive/MyDrive/model/\r\n",
        "# !rsync -a ~/model/model.pkl.gz /content/drive/MyDrive/model/"
      ],
      "execution_count": null,
      "outputs": []
    }
  ]
}