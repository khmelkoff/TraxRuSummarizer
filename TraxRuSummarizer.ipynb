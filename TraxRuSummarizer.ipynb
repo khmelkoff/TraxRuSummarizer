{
  "nbformat": 4,
  "nbformat_minor": 0,
  "metadata": {
    "colab": {
      "name": "TraxRuSummarizer.ipynb",
      "provenance": [],
      "collapsed_sections": [],
      "toc_visible": true,
      "authorship_tag": "ABX9TyM30O35kIgRdITxoJvYRlay",
      "include_colab_link": true
    },
    "kernelspec": {
      "name": "python3",
      "display_name": "Python 3"
    },
    "accelerator": "GPU"
  },
  "cells": [
    {
      "cell_type": "markdown",
      "metadata": {
        "id": "view-in-github",
        "colab_type": "text"
      },
      "source": [
        "<a href=\"https://colab.research.google.com/github/khmelkoff/TraxRuSummarizer/blob/main/TraxRuSummarizer.ipynb\" target=\"_parent\"><img src=\"https://colab.research.google.com/assets/colab-badge.svg\" alt=\"Open In Colab\"/></a>"
      ]
    },
    {
      "cell_type": "code",
      "metadata": {
        "id": "mSNuqhfqcihA",
        "colab": {
          "base_uri": "https://localhost:8080/"
        },
        "outputId": "d3d0c03e-8c04-45f2-e575-8195944a5d40"
      },
      "source": [
        "!pip -q install trax"
      ],
      "execution_count": 1,
      "outputs": [
        {
          "output_type": "stream",
          "text": [
            "\u001b[K     |████████████████████████████████| 522kB 9.1MB/s \n",
            "\u001b[K     |████████████████████████████████| 3.4MB 19.4MB/s \n",
            "\u001b[K     |████████████████████████████████| 215kB 54.5MB/s \n",
            "\u001b[K     |████████████████████████████████| 368kB 51.0MB/s \n",
            "\u001b[K     |████████████████████████████████| 1.8MB 50.6MB/s \n",
            "\u001b[K     |████████████████████████████████| 3.8MB 54.3MB/s \n",
            "\u001b[K     |████████████████████████████████| 1.2MB 60.6MB/s \n",
            "\u001b[K     |████████████████████████████████| 71kB 12.8MB/s \n",
            "\u001b[K     |████████████████████████████████| 3.2MB 50.9MB/s \n",
            "\u001b[K     |████████████████████████████████| 890kB 31.4MB/s \n",
            "\u001b[?25h  Building wheel for sacremoses (setup.py) ... \u001b[?25l\u001b[?25hdone\n"
          ],
          "name": "stdout"
        }
      ]
    },
    {
      "cell_type": "code",
      "metadata": {
        "id": "m_aqU1MnqnJJ"
      },
      "source": [
        "import os\r\n",
        "import pandas as pd\r\n",
        "import numpy as np\r\n",
        "from tqdm import tqdm\r\n",
        "import random\r\n",
        "# from unicodedata import normalize\r\n",
        "# import sentencepiece as spm\r\n",
        "\r\n",
        "import trax\r\n",
        "from trax import layers as tl\r\n",
        "from trax.supervised import decoding\r\n",
        "\r\n",
        "%matplotlib inline"
      ],
      "execution_count": 2,
      "outputs": []
    },
    {
      "cell_type": "code",
      "metadata": {
        "id": "_1vipmj4Jw0E"
      },
      "source": [
        "import textwrap\r\n",
        "wrapper = textwrap.TextWrapper(width=70)"
      ],
      "execution_count": 3,
      "outputs": []
    },
    {
      "cell_type": "code",
      "metadata": {
        "colab": {
          "base_uri": "https://localhost:8080/"
        },
        "id": "eTcmoVfgqzYQ",
        "outputId": "6b869439-9c6a-4e06-d60a-b136f2baa97c"
      },
      "source": [
        "from google.colab import drive\r\n",
        "drive.mount('/content/drive')"
      ],
      "execution_count": 4,
      "outputs": [
        {
          "output_type": "stream",
          "text": [
            "Mounted at /content/drive\n"
          ],
          "name": "stdout"
        }
      ]
    },
    {
      "cell_type": "markdown",
      "metadata": {
        "id": "r7edZqAdIew0"
      },
      "source": [
        "## Load the data"
      ]
    },
    {
      "cell_type": "code",
      "metadata": {
        "colab": {
          "base_uri": "https://localhost:8080/",
          "height": 339
        },
        "id": "cEHo8bdTrbAL",
        "outputId": "c9a91cd3-abd9-4fa1-d165-10c55c4fb313"
      },
      "source": [
        "# data = pd.read_csv('/content/drive/MyDrive/lenta-ru-news.csv.zip')\r\n",
        "# data.head()"
      ],
      "execution_count": null,
      "outputs": [
        {
          "output_type": "stream",
          "text": [
            "/usr/local/lib/python3.6/dist-packages/IPython/core/interactiveshell.py:2718: DtypeWarning: Columns (3) have mixed types.Specify dtype option on import or set low_memory=False.\n",
            "  interactivity=interactivity, compiler=compiler, result=result)\n"
          ],
          "name": "stderr"
        },
        {
          "output_type": "execute_result",
          "data": {
            "text/html": [
              "<div>\n",
              "<style scoped>\n",
              "    .dataframe tbody tr th:only-of-type {\n",
              "        vertical-align: middle;\n",
              "    }\n",
              "\n",
              "    .dataframe tbody tr th {\n",
              "        vertical-align: top;\n",
              "    }\n",
              "\n",
              "    .dataframe thead th {\n",
              "        text-align: right;\n",
              "    }\n",
              "</style>\n",
              "<table border=\"1\" class=\"dataframe\">\n",
              "  <thead>\n",
              "    <tr style=\"text-align: right;\">\n",
              "      <th></th>\n",
              "      <th>url</th>\n",
              "      <th>title</th>\n",
              "      <th>text</th>\n",
              "      <th>topic</th>\n",
              "      <th>tags</th>\n",
              "      <th>date</th>\n",
              "    </tr>\n",
              "  </thead>\n",
              "  <tbody>\n",
              "    <tr>\n",
              "      <th>0</th>\n",
              "      <td>https://lenta.ru/news/1914/09/16/hungarnn/</td>\n",
              "      <td>1914. Русские войска вступили в пределы Венгрии</td>\n",
              "      <td>Бои у Сопоцкина и Друскеник закончились отступ...</td>\n",
              "      <td>Библиотека</td>\n",
              "      <td>Первая мировая</td>\n",
              "      <td>1914/09/16</td>\n",
              "    </tr>\n",
              "    <tr>\n",
              "      <th>1</th>\n",
              "      <td>https://lenta.ru/news/1914/09/16/lermontov/</td>\n",
              "      <td>1914. Празднование столетия М.Ю. Лермонтова от...</td>\n",
              "      <td>Министерство народного просвещения, в виду про...</td>\n",
              "      <td>Библиотека</td>\n",
              "      <td>Первая мировая</td>\n",
              "      <td>1914/09/16</td>\n",
              "    </tr>\n",
              "    <tr>\n",
              "      <th>2</th>\n",
              "      <td>https://lenta.ru/news/1914/09/17/nesteroff/</td>\n",
              "      <td>1914. Das ist Nesteroff!</td>\n",
              "      <td>Штабс-капитан П. Н. Нестеров на днях, увидев в...</td>\n",
              "      <td>Библиотека</td>\n",
              "      <td>Первая мировая</td>\n",
              "      <td>1914/09/17</td>\n",
              "    </tr>\n",
              "    <tr>\n",
              "      <th>3</th>\n",
              "      <td>https://lenta.ru/news/1914/09/17/bulldogn/</td>\n",
              "      <td>1914. Бульдог-гонец под Льежем</td>\n",
              "      <td>Фотограф-корреспондент Daily Mirror рассказыва...</td>\n",
              "      <td>Библиотека</td>\n",
              "      <td>Первая мировая</td>\n",
              "      <td>1914/09/17</td>\n",
              "    </tr>\n",
              "    <tr>\n",
              "      <th>4</th>\n",
              "      <td>https://lenta.ru/news/1914/09/18/zver/</td>\n",
              "      <td>1914. Под Люблином пойман швабский зверь</td>\n",
              "      <td>Лица, приехавшие в Варшаву из Люблина, передаю...</td>\n",
              "      <td>Библиотека</td>\n",
              "      <td>Первая мировая</td>\n",
              "      <td>1914/09/18</td>\n",
              "    </tr>\n",
              "  </tbody>\n",
              "</table>\n",
              "</div>"
            ],
            "text/plain": [
              "                                           url  ...        date\n",
              "0   https://lenta.ru/news/1914/09/16/hungarnn/  ...  1914/09/16\n",
              "1  https://lenta.ru/news/1914/09/16/lermontov/  ...  1914/09/16\n",
              "2  https://lenta.ru/news/1914/09/17/nesteroff/  ...  1914/09/17\n",
              "3   https://lenta.ru/news/1914/09/17/bulldogn/  ...  1914/09/17\n",
              "4       https://lenta.ru/news/1914/09/18/zver/  ...  1914/09/18\n",
              "\n",
              "[5 rows x 6 columns]"
            ]
          },
          "metadata": {
            "tags": []
          },
          "execution_count": 5
        }
      ]
    },
    {
      "cell_type": "code",
      "metadata": {
        "colab": {
          "base_uri": "https://localhost:8080/",
          "height": 282
        },
        "id": "f1Kj8ssZdUkc",
        "outputId": "311b32a7-5ede-4a83-9308-8b100d43d5fd"
      },
      "source": [
        "# data['text_len'] = [len(x) if not type(x)==float else 0 for x in data.text]\r\n",
        "# data.text_len[data.text_len < 2000].hist()"
      ],
      "execution_count": null,
      "outputs": [
        {
          "output_type": "execute_result",
          "data": {
            "text/plain": [
              "<matplotlib.axes._subplots.AxesSubplot at 0x7f16f0055ac8>"
            ]
          },
          "metadata": {
            "tags": []
          },
          "execution_count": 6
        },
        {
          "output_type": "display_data",
          "data": {
            "image/png": "[encoded data removed]",
            "text/plain": [
              "<Figure size 432x288 with 1 Axes>"
            ]
          },
          "metadata": {
            "tags": [],
            "needs_background": "light"
          }
        }
      ]
    },
    {
      "cell_type": "code",
      "metadata": {
        "colab": {
          "base_uri": "https://localhost:8080/"
        },
        "id": "1jCVmpc9dUvL",
        "outputId": "1a9626b1-7830-4063-b95a-912f661ebd2d"
      },
      "source": [
        "# text_full = []  # full text list for train senttence piece tokenizer\r\n",
        "# text_pairs = [] # paired data for train the model, format: (title, text)\r\n",
        "# for i in tqdm(range(data.shape[0])):\r\n",
        "    # if data.iloc[i, 6] >= 200 and data.iloc[i, 6] <= 2000:\r\n",
        "        # text_full.append(data.iloc[i, 1].lower() + '\\n' + data.iloc[i, 2].lower())\r\n",
        "        # list of (article, summary)\r\n",
        "        # text_pairs.append((data.iloc[i, 2].lower(), data.iloc[i, 1].lower()))\r\n",
        "\r\n",
        "# save full text to text file        \r\n",
        "# with open('full_text.txt', 'w', encoding='utf-8') as file:\r\n",
        "#     file.write('\\n'.join(text_full))  "
      ],
      "execution_count": null,
      "outputs": [
        {
          "output_type": "stream",
          "text": [
            "100%|██████████| 800975/800975 [01:05<00:00, 12189.45it/s]\n"
          ],
          "name": "stderr"
        }
      ]
    },
    {
      "cell_type": "code",
      "metadata": {
        "id": "3HaJAqFDGEcu",
        "colab": {
          "base_uri": "https://localhost:8080/"
        },
        "outputId": "bafd90d3-592e-44a8-d602-30424903033f"
      },
      "source": [
        "# text_pairs[0]"
      ],
      "execution_count": null,
      "outputs": [
        {
          "output_type": "execute_result",
          "data": {
            "text/plain": [
              "('бои у сопоцкина и друскеник закончились отступлением германцев. неприятель, приблизившись с севера к осовцу начал артиллерийскую борьбу с крепостью. в артиллерийском бою принимают участие тяжелые калибры. с раннего утра 14 сентября огонь достиг значительного напряжения. попытка германской пехоты пробиться ближе к крепости отражена. в галиции мы заняли дембицу. большая колонна, отступавшая по шоссе от перемышля к саноку, обстреливалась с высот нашей батареей и бежала, бросив парки, обоз и автомобили. вылазки гарнизона перемышля остаются безуспешными. при продолжающемся отступлении австрийцев обнаруживается полное перемешивание их частей, захватываются новые партии пленных, орудия и прочая материальная часть. на перевале ужок мы разбили неприятельский отряд, взяли его артиллерию и много пленных и, продолжая преследовать, вступили в пределы венгрии. \\n«русский инвалид», 16 сентября 1914 года.',\n",
              " '1914. русские войска вступили в\\xa0пределы венгрии  ')"
            ]
          },
          "metadata": {
            "tags": []
          },
          "execution_count": 8
        }
      ]
    },
    {
      "cell_type": "markdown",
      "metadata": {
        "id": "uxxoWoTT11HC"
      },
      "source": [
        "## Load / Train BPE tokenizer"
      ]
    },
    {
      "cell_type": "code",
      "metadata": {
        "id": "2L2u9ccqdUyr"
      },
      "source": [
        "# train tokenizer\r\n",
        "# spm.SentencePieceTrainer.train('--input=full_text.txt --pad_id=0 --bos_id=-1 --eos_id=1 --unk_id=2 \\\r\n",
        "#                                --model_prefix=bpe --vocab_size=32000 --model_type=bpe')\r\n",
        "# sp = spm.SentencePieceProcessor()\r\n",
        "# sp.load('/content/drive/MyDrive/bpe.model')"
      ],
      "execution_count": null,
      "outputs": []
    },
    {
      "cell_type": "markdown",
      "metadata": {
        "id": "zKJ0tetM1znK"
      },
      "source": [
        ""
      ]
    },
    {
      "cell_type": "code",
      "metadata": {
        "colab": {
          "base_uri": "https://localhost:8080/"
        },
        "id": "TcS3BZXUdU2L",
        "outputId": "9a443a1c-929d-46b7-a380-16c307c65131"
      },
      "source": [
        "# s0 = text_pairs[10][0]\r\n",
        "# text_list = wrapper.wrap(s0[:300])\r\n",
        "# for line in text_list:\r\n",
        "#     print(line)"
      ],
      "execution_count": null,
      "outputs": [
        {
          "output_type": "stream",
          "text": [
            "сегодня областной центр сахалина и курил получил статус очага\n",
            "распространения холеры. как сообщает итар-тасс со ссылкой на пресс-\n",
            "центр администрации сахалинской области, в лечебных учреждениях южно-\n",
            "сахалинска уже находятсятся 5 горожан, причем у двоих из них болезнь\n",
            "проходит в средне-тяжелой форме.\n"
          ],
          "name": "stdout"
        }
      ]
    },
    {
      "cell_type": "code",
      "metadata": {
        "id": "989eG7badU5d"
      },
      "source": [
        "# # tokenizer check\r\n",
        "# print('encode: text => id:')\r\n",
        "# print(sp.encode_as_pieces(s0[:300]))\r\n",
        "# print('')\r\n",
        "# print(sp.encode_as_ids(s0[:300]))\r\n",
        "# print('')\r\n",
        "# print('decode: id => text:')\r\n",
        "# print(sp.decode_pieces(sp.encode_as_pieces(s0[:300])))\r\n",
        "# print('')\r\n",
        "# print(f'Beginning of sentence id: {sp.bos_id()}')\r\n",
        "# print(f'Pad id: {sp.pad_id()}')\r\n",
        "# print(f'End of sentence id: {sp.eos_id()}')\r\n",
        "# print(f'Unknown id: {sp.unk_id()}')\r\n",
        "# print(f'Vocab size: {sp.vocab_size()}')      "
      ],
      "execution_count": null,
      "outputs": []
    },
    {
      "cell_type": "code",
      "metadata": {
        "id": "2eOS2ZUWdU84"
      },
      "source": [
        "# uid = 18298\r\n",
        "# spiece = \"\\u2581Саха\"\r\n",
        "# unknown = \"_НЕИЗВЕСТНОСТЬ_\"\r\n",
        "\r\n",
        "# # id <=> piece conversion\r\n",
        "# print(f'SentencePiece for ID {uid}: {sp.id_to_piece(uid)}')\r\n",
        "# print(f'ID for Sentence Piece {spiece}: {sp.piece_to_id(spiece)}')\r\n",
        "\r\n",
        "# # returns 0 for unknown tokens (we can change the id for UNK)\r\n",
        "# print(f'ID for unknown text {unknown}: {sp.piece_to_id(unknown)}')"
      ],
      "execution_count": null,
      "outputs": []
    },
    {
      "cell_type": "code",
      "metadata": {
        "id": "tFOPw70bdVAT"
      },
      "source": [
        "# # vocab's head and tail test\r\n",
        "# print('\\nId\\tSentP\\tControl?')\r\n",
        "# print('------------------------')\r\n",
        "# for uid in range(7):\r\n",
        "#     print(uid, sp.id_to_piece(uid), sp.is_control(uid), sep='\\t')\r\n",
        "    \r\n",
        "# for uid in range(sp.vocab_size()-7,sp.vocab_size()):\r\n",
        "#     print(uid, sp.id_to_piece(uid), sp.is_control(uid), sep='\\t')"
      ],
      "execution_count": null,
      "outputs": []
    },
    {
      "cell_type": "markdown",
      "metadata": {
        "id": "l2NwNe142mOa"
      },
      "source": [
        "## Data: preprocess and create generators"
      ]
    },
    {
      "cell_type": "code",
      "metadata": {
        "colab": {
          "base_uri": "https://localhost:8080/"
        },
        "id": "_qLsMmUFFnHA",
        "outputId": "2113f247-7524-4ab8-fdc9-396655747d57"
      },
      "source": [
        "text_pairs = pd.read_csv('/content/drive/MyDrive/lenta.csv', sep=';')\r\n",
        "text_pairs = [(x, y) for x, y in zip(text_pairs.article, text_pairs.summary)]\r\n",
        "print(wrapper.fill(text_pairs[0][0]))\r\n",
        "print(wrapper.fill(text_pairs[0][1]))"
      ],
      "execution_count": 5,
      "outputs": [
        {
          "output_type": "stream",
          "text": [
            "проведение нового раунда минских переговоров по ситуации на украине в\n",
            "ближайшее время исключено. об этом, как сообщает тасс, заявил советник\n",
            "главы службы безопасности украины (сбу) маркиян лубкивский. «минска-2\n",
            "не будет. у нас есть минск-1 и те договоренности, которые нужно\n",
            "выполнять», — сказал лубкивский в эфире телеканала \"1+1\", обвинив\n",
            "ополченцев в нарушении прежних договоренностей. в четверг полномочный\n",
            "представитель самопровозглашенной донецкой народной республики (днр)\n",
            "на переговорах контактной группы в минске денис пушилин заявил, что\n",
            "власти республики готовы к возобновлению минского процесса. при этом\n",
            "он выразил недоумение относительно позиции киева, который, по его\n",
            "мнению, «стремится к полному прекращению минского процесса, чтобы\n",
            "отказаться от прямых контактов с республиками». в сентябре 2014 года в\n",
            "минске состоялись две встречи контактной группы по украине. 20\n",
            "сентября был принят меморандум по осуществлению режима прекращения\n",
            "огня, состоящий из девяти пунктов. 5 сентября был подписан протокол о\n",
            "мирном урегулировании на юго-востоке украины. главными пунктами\n",
            "протокола стали соглашение о прекращении огня и обмене военнопленными.\n",
            "в киеве исключили новый раунд минских переговоров\n"
          ],
          "name": "stdout"
        }
      ]
    },
    {
      "cell_type": "code",
      "metadata": {
        "colab": {
          "base_uri": "https://localhost:8080/"
        },
        "id": "nBPM2r5L3s4i",
        "outputId": "6bcba744-762b-43a7-832a-12a862aff881"
      },
      "source": [
        "# train/eval split\r\n",
        "margin = int(len(text_pairs)*0.95)\r\n",
        "train_text_pairs = text_pairs[:margin]\r\n",
        "print('train cases: ', len(train_text_pairs))\r\n",
        "eval_text_pairs = text_pairs[margin:]\r\n",
        "print('eval cases: ', len(eval_text_pairs))"
      ],
      "execution_count": 6,
      "outputs": [
        {
          "output_type": "stream",
          "text": [
            "train cases:  686277\n",
            "eval cases:  36120\n"
          ],
          "name": "stdout"
        }
      ]
    },
    {
      "cell_type": "code",
      "metadata": {
        "colab": {
          "base_uri": "https://localhost:8080/"
        },
        "id": "boC79r_7EPy6",
        "outputId": "3462b587-b1b4-4f8b-b898-de0551001204"
      },
      "source": [
        "print(wrapper.fill(train_text_pairs[0][0]))"
      ],
      "execution_count": 7,
      "outputs": [
        {
          "output_type": "stream",
          "text": [
            "проведение нового раунда минских переговоров по ситуации на украине в\n",
            "ближайшее время исключено. об этом, как сообщает тасс, заявил советник\n",
            "главы службы безопасности украины (сбу) маркиян лубкивский. «минска-2\n",
            "не будет. у нас есть минск-1 и те договоренности, которые нужно\n",
            "выполнять», — сказал лубкивский в эфире телеканала \"1+1\", обвинив\n",
            "ополченцев в нарушении прежних договоренностей. в четверг полномочный\n",
            "представитель самопровозглашенной донецкой народной республики (днр)\n",
            "на переговорах контактной группы в минске денис пушилин заявил, что\n",
            "власти республики готовы к возобновлению минского процесса. при этом\n",
            "он выразил недоумение относительно позиции киева, который, по его\n",
            "мнению, «стремится к полному прекращению минского процесса, чтобы\n",
            "отказаться от прямых контактов с республиками». в сентябре 2014 года в\n",
            "минске состоялись две встречи контактной группы по украине. 20\n",
            "сентября был принят меморандум по осуществлению режима прекращения\n",
            "огня, состоящий из девяти пунктов. 5 сентября был подписан протокол о\n",
            "мирном урегулировании на юго-востоке украины. главными пунктами\n",
            "протокола стали соглашение о прекращении огня и обмене военнопленными.\n"
          ],
          "name": "stdout"
        }
      ]
    },
    {
      "cell_type": "code",
      "metadata": {
        "id": "5UEO4D0w5mtq"
      },
      "source": [
        "def data_generator(data, shuffle=True):\r\n",
        "    '''\r\n",
        "      Input: \r\n",
        "        data - list containing tuples (article, summary)\r\n",
        "        shuffle - If True: shuffle the data order\r\n",
        "      Output:\r\n",
        "        a tuple containing 2 elements:\r\n",
        "        article\r\n",
        "        summary\r\n",
        "    '''\r\n",
        "    \r\n",
        "    data_lng = len(data) # len(data)\r\n",
        "    index_list = [*range(data_lng)] # Create a list with the ordered indexes of sample data\r\n",
        "\r\n",
        "    if shuffle:\r\n",
        "        random.shuffle(index_list) # re-shuffle the order\r\n",
        "    \r\n",
        "    index = 0 # Start with the first element\r\n",
        "    while True:\r\n",
        "        # Wrap the index each time that we reach the end of the list\r\n",
        "        if index >= data_lng:\r\n",
        "            index = 0\r\n",
        "            if shuffle:\r\n",
        "                random.shuffle(index_list) # re-shuffle the order\r\n",
        "            \r\n",
        "        sample = data[index_list[index]]\r\n",
        "        index += 1\r\n",
        "        yield(sample)\r\n",
        "\r\n",
        "# create data streams\r\n",
        "def train_data_stream():\r\n",
        "    return data_generator(train_text_pairs, shuffle=True)\r\n",
        "\r\n",
        "def eval_data_stream():\r\n",
        "    return data_generator(eval_text_pairs, shuffle=True)        "
      ],
      "execution_count": 8,
      "outputs": []
    },
    {
      "cell_type": "code",
      "metadata": {
        "id": "tF_P5KCb7hPx",
        "colab": {
          "base_uri": "https://localhost:8080/"
        },
        "outputId": "740d8c90-8af1-4f92-8cc8-943953785559"
      },
      "source": [
        "PAD, EOS, UNK = 0, 1, 2\r\n",
        "\r\n",
        "def detokenize(integers):\r\n",
        "    s = trax.data.detokenize(\r\n",
        "        integers,\r\n",
        "        vocab_type='sentencepiece',\r\n",
        "        vocab_file='bpe.model',\r\n",
        "        vocab_dir='/content/drive/MyDrive/')\r\n",
        "    return wrapper.fill(s)\r\n",
        "\r\n",
        "\r\n",
        "def tokenize(s):\r\n",
        "    inputs =  next(trax.data.tokenize(\r\n",
        "        iter([s]),\r\n",
        "        vocab_type='sentencepiece',\r\n",
        "        vocab_file='bpe.model',\r\n",
        "        vocab_dir='/content/drive/MyDrive/'))\r\n",
        "    \r\n",
        "    return list(inputs) + [EOS]\r\n",
        " \r\n",
        "    \r\n",
        "vocab_size = trax.data.vocab_size(\r\n",
        "    vocab_type='sentencepiece',\r\n",
        "    vocab_file='bpe.model',\r\n",
        "    vocab_dir='/content/drive/MyDrive/')\r\n",
        "\r\n",
        "print('vocab size: ', vocab_size)"
      ],
      "execution_count": 9,
      "outputs": [
        {
          "output_type": "stream",
          "text": [
            "vocab size:  16000\n"
          ],
          "name": "stdout"
        }
      ]
    },
    {
      "cell_type": "code",
      "metadata": {
        "id": "VgiAbTnyQHuq",
        "colab": {
          "base_uri": "https://localhost:8080/"
        },
        "outputId": "41b72129-5a64-4aa0-ba9c-620e5da39d4f"
      },
      "source": [
        "tokenize('тест')"
      ],
      "execution_count": 10,
      "outputs": [
        {
          "output_type": "execute_result",
          "data": {
            "text/plain": [
              "[15117, 1]"
            ]
          },
          "metadata": {
            "tags": []
          },
          "execution_count": 10
        }
      ]
    },
    {
      "cell_type": "code",
      "metadata": {
        "id": "yvHY7mzQboWh",
        "colab": {
          "base_uri": "https://localhost:8080/"
        },
        "outputId": "0e1ea56c-0fd6-4e84-a375-dcc0762ae57b"
      },
      "source": [
        "tokenize('НЕИЗВЕСТНОСТЬ')"
      ],
      "execution_count": 11,
      "outputs": [
        {
          "output_type": "execute_result",
          "data": {
            "text/plain": [
              "[15924, 2, 1]"
            ]
          },
          "metadata": {
            "tags": []
          },
          "execution_count": 11
        }
      ]
    },
    {
      "cell_type": "code",
      "metadata": {
        "id": "jWfl-ORS_fyb"
      },
      "source": [
        "# tokenized = tokenize('сведения о пассажирах на всех видах транспорта, где используются именные проездные билеты')\r\n",
        "# print('tokenized:')\r\n",
        "# print(tokenized)\r\n",
        "# print('len=', len(tokenized))\r\n",
        "# detokenized = detokenize(tokenized)\r\n",
        "# print('detokenized:')\r\n",
        "# print(detokenized)\r\n",
        "# print('len=', len(detokenized.split()))"
      ],
      "execution_count": null,
      "outputs": []
    },
    {
      "cell_type": "code",
      "metadata": {
        "id": "uTKFA_059NFp"
      },
      "source": [
        "# Concatenate tokenized inputs and targets using 0 as separator.\r\n",
        "def preprocess(stream):\r\n",
        "    for (article, summary) in stream:\r\n",
        "        joint = np.array(list(article) + [EOS, PAD] + list(summary) + [EOS])\r\n",
        "        mask = [0] * (len(list(article)) + 2) + [1] * (len(list(summary)) + 1) \r\n",
        "        yield joint, joint, np.array(mask)\r\n",
        "\r\n",
        "# You can combine a few data preprocessing steps into a pipeline like this.\r\n",
        "input_pipeline = trax.data.Serial(\r\n",
        "    # Tokenizes\r\n",
        "    trax.data.Tokenize(vocab_type='sentencepiece',\r\n",
        "                       vocab_dir='/content/drive/MyDrive/',\r\n",
        "                       vocab_file='bpe.model'),\r\n",
        "    # Uses function defined above\r\n",
        "    preprocess,\r\n",
        "    # trax.data.FilterByLength(2048)\r\n",
        ")\r\n",
        "\r\n",
        "# Apply preprocessing to data streams.\r\n",
        "train_stream = input_pipeline(train_data_stream())\r\n",
        "eval_stream = input_pipeline(eval_data_stream())"
      ],
      "execution_count": 12,
      "outputs": []
    },
    {
      "cell_type": "code",
      "metadata": {
        "id": "Tshiu0tGHb61",
        "colab": {
          "base_uri": "https://localhost:8080/"
        },
        "outputId": "e2590c28-650a-4d27-fce1-3b4ffeaeab2e"
      },
      "source": [
        "train_input, train_target, train_mask = next(train_stream)\r\n",
        "# assert sum((train_input - train_target)**2) == 0  # They are the same in Language Model (LM).\r\n",
        "# check pad (id:0) and sep/eos (id:1)\r\n",
        "print(train_input[-20:])"
      ],
      "execution_count": 13,
      "outputs": [
        {
          "output_type": "stream",
          "text": [
            "[  448 15945   735  4695 15945  1700  9582   993 15949     1     0  6540\n",
            "  4423   509 13950 12156   913 11924  7403     1]\n"
          ],
          "name": "stdout"
        }
      ]
    },
    {
      "cell_type": "markdown",
      "metadata": {
        "id": "MmjB-_IHLCO4"
      },
      "source": [
        "## Batching and Bucketing "
      ]
    },
    {
      "cell_type": "code",
      "metadata": {
        "id": "wBM6LWbtLJZW"
      },
      "source": [
        "# batch of 8 sentences of length < 256 , 4 of length < 512....\r\n",
        "boundaries =  [256, 512, 1024]\r\n",
        "batch_sizes = [16, 8, 4, 2]\r\n",
        "\r\n",
        "# Create the streams.\r\n",
        "train_batch_stream = trax.data.BucketByLength(\r\n",
        "    boundaries, batch_sizes)(train_stream)\r\n",
        "\r\n",
        "eval_batch_stream = trax.data.BucketByLength(\r\n",
        "    boundaries, batch_sizes)(eval_stream)"
      ],
      "execution_count": 14,
      "outputs": []
    },
    {
      "cell_type": "code",
      "metadata": {
        "colab": {
          "base_uri": "https://localhost:8080/"
        },
        "id": "c6wUSPsJLvnP",
        "outputId": "b5562cac-24e8-4b54-93a9-00f7c7abdacd"
      },
      "source": [
        "input_batch, _, mask_batch = next(train_batch_stream)\r\n",
        "\r\n",
        "# Shape of the input_batch\r\n",
        "input_batch.shape"
      ],
      "execution_count": 15,
      "outputs": [
        {
          "output_type": "execute_result",
          "data": {
            "text/plain": [
              "(8, 512)"
            ]
          },
          "metadata": {
            "tags": []
          },
          "execution_count": 15
        }
      ]
    },
    {
      "cell_type": "code",
      "metadata": {
        "colab": {
          "base_uri": "https://localhost:8080/"
        },
        "id": "1iuq_rS2MTeM",
        "outputId": "3ac079ee-bfe9-44d4-c7a0-136d84e2ada9"
      },
      "source": [
        "# check autopadding endig of sample\r\n",
        "# 1, 0, <not 0 digit>... - end of article and start of summary\r\n",
        "input_batch[0]"
      ],
      "execution_count": 16,
      "outputs": [
        {
          "output_type": "execute_result",
          "data": {
            "text/plain": [
              "array([ 6471,    81,  4129, 15957,    16,  8952, 11506,  6697, 15989,\n",
              "       15965, 15991,  1488,  3778,   252,   866,  7447, 12221,  4136,\n",
              "        2070,    17,  1783,  5990,  8462,   475,  9223, 15260,  4138,\n",
              "        2142, 15949,  3372,  3257,   452,  2242,   836, 15942,    25,\n",
              "        2552,  1465,  6051,  2342,    17,  5358,  6392,  1897, 11831,\n",
              "       15945,   976,  5693,     5,  1717,     5, 12119,    35, 15949,\n",
              "         207,  3966,  3471,  6697, 15989, 15965, 15991,  1488,  3778,\n",
              "       15945,  5415,  2092,  9223, 15260,  4138,  2142, 15945, 10447,\n",
              "        3179,     5,  7886, 10456,  4651,  7481,   132,  2142,     5,\n",
              "         278, 15945,   744,  1177,  8428,  1318,  7627,    46,  1644,\n",
              "        4994,   607, 10384,  2307, 10452,  1560,  6844,   386, 15949,\n",
              "        2082,   277,  6338,  1489,  1264,   146,  6077,  3111,   145,\n",
              "         124,   982,  7191,     5,   731,   929,  8370, 15949,    17,\n",
              "         599,  1877,   785,    81,  2193,   294,  1501,  9542,  2070,\n",
              "         348, 10997,    15,   305,    25,  2948,    86,  7423,  4760,\n",
              "        9499,   106,  2307,    81,  5947, 15957,     5,  4175, 10416,\n",
              "         884, 15949,  1269,  7578,  4842, 15926,    50,  4221,  5066,\n",
              "         686,  2133,    94, 11357,   245,  8673,    81,  8257,    21,\n",
              "        6575,  1744,   295,    25,  2729,  7251,  2669,  7173,   452,\n",
              "        3684,   973,    25,   477,   521,  2614, 12044,  1704,   386,\n",
              "       15949,  8462,   430,  9223, 15260,  4138,  2142,    25,   226,\n",
              "        7367,  1356,  1177,  1783,  3815,     5,  5354,    25,  1628,\n",
              "       15961,   521,  3608,  6307, 15949,   207,  6027,     5,  6697,\n",
              "       15989, 15965, 15991,  1488,  3778, 15945,  3533,  1620,  5805,\n",
              "        2070,  4121, 11124,    74,  8838,  8462,   475,    70,  4580,\n",
              "         308,  2449,   962,  3608,     5,  1036, 15949,   129,  9140,\n",
              "       11371,  8882,   111,  8462,   475,     5, 10711,  2422,   347,\n",
              "        1711,     4,  1909,  2114,  3389,   521,   534, 15949,     1,\n",
              "           0,  1997,   509, 10761,  9128,  1885, 11632,     1,     0,\n",
              "           0,     0,     0,     0,     0,     0,     0,     0,     0,\n",
              "           0,     0,     0,     0,     0,     0,     0,     0,     0,\n",
              "           0,     0,     0,     0,     0,     0,     0,     0,     0,\n",
              "           0,     0,     0,     0,     0,     0,     0,     0,     0,\n",
              "           0,     0,     0,     0,     0,     0,     0,     0,     0,\n",
              "           0,     0,     0,     0,     0,     0,     0,     0,     0,\n",
              "           0,     0,     0,     0,     0,     0,     0,     0,     0,\n",
              "           0,     0,     0,     0,     0,     0,     0,     0,     0,\n",
              "           0,     0,     0,     0,     0,     0,     0,     0,     0,\n",
              "           0,     0,     0,     0,     0,     0,     0,     0,     0,\n",
              "           0,     0,     0,     0,     0,     0,     0,     0,     0,\n",
              "           0,     0,     0,     0,     0,     0,     0,     0,     0,\n",
              "           0,     0,     0,     0,     0,     0,     0,     0,     0,\n",
              "           0,     0,     0,     0,     0,     0,     0,     0,     0,\n",
              "           0,     0,     0,     0,     0,     0,     0,     0,     0,\n",
              "           0,     0,     0,     0,     0,     0,     0,     0,     0,\n",
              "           0,     0,     0,     0,     0,     0,     0,     0,     0,\n",
              "           0,     0,     0,     0,     0,     0,     0,     0,     0,\n",
              "           0,     0,     0,     0,     0,     0,     0,     0,     0,\n",
              "           0,     0,     0,     0,     0,     0,     0,     0,     0,\n",
              "           0,     0,     0,     0,     0,     0,     0,     0,     0,\n",
              "           0,     0,     0,     0,     0,     0,     0,     0,     0,\n",
              "           0,     0,     0,     0,     0,     0,     0,     0,     0,\n",
              "           0,     0,     0,     0,     0,     0,     0,     0,     0,\n",
              "           0,     0,     0,     0,     0,     0,     0,     0,     0,\n",
              "           0,     0,     0,     0,     0,     0,     0,     0,     0,\n",
              "           0,     0,     0,     0,     0,     0,     0,     0,     0,\n",
              "           0,     0,     0,     0,     0,     0,     0,     0])"
            ]
          },
          "metadata": {
            "tags": []
          },
          "execution_count": 16
        }
      ]
    },
    {
      "cell_type": "markdown",
      "metadata": {
        "id": "qCrsAxgBNv1t"
      },
      "source": [
        "## Transformer Model"
      ]
    },
    {
      "cell_type": "markdown",
      "metadata": {
        "id": "juiM2BOTka_Q"
      },
      "source": [
        "### Positional encoder"
      ]
    },
    {
      "cell_type": "code",
      "metadata": {
        "id": "jSJLcdurkngQ"
      },
      "source": [
        "def PositionalEncoder(vocab_size, d_model, dropout, max_len, mode):\r\n",
        "    \"\"\"Returns a list of layers that: \r\n",
        "    1. takes a block of text as input, \r\n",
        "    2. embeds the words in that text, and \r\n",
        "    3. adds positional encoding, \r\n",
        "       i.e. associates a number in range(max_len) with \r\n",
        "       each word in each sentence of embedded input text \r\n",
        "    \r\n",
        "    The input is a list of tokenized blocks of text\r\n",
        "    \r\n",
        "    Args:\r\n",
        "        vocab_size (int): vocab size.\r\n",
        "        d_model (int):  depth of embedding.\r\n",
        "        dropout (float): dropout rate (how much to drop out).\r\n",
        "        max_len (int): maximum symbol length for positional encoding.\r\n",
        "        mode (str): 'train' or 'eval'.\r\n",
        "    \"\"\"\r\n",
        "    # Embedding inputs and positional encoder\r\n",
        "    return [ \r\n",
        "        # Add embedding layer of dimension (vocab_size, d_model)\r\n",
        "        tl.Embedding(vocab_size, d_model),  \r\n",
        "        # Use dropout with rate and mode specified\r\n",
        "        tl.Dropout(rate=dropout, mode=mode), \r\n",
        "        # Add positional encoding layer with maximum input length and mode specified\r\n",
        "        tl.PositionalEncoding(max_len=max_len, mode=mode)] "
      ],
      "execution_count": 17,
      "outputs": []
    },
    {
      "cell_type": "markdown",
      "metadata": {
        "id": "noeDrbSOk1Mr"
      },
      "source": [
        "### Feed-Forward layer"
      ]
    },
    {
      "cell_type": "code",
      "metadata": {
        "id": "xqzUPRrxknsz"
      },
      "source": [
        "def FeedForward(d_model, d_ff, dropout, mode, ff_activation):\r\n",
        "    \"\"\"Returns a list of layers that implements a feed-forward block.\r\n",
        "\r\n",
        "    The input is an activation tensor.\r\n",
        "\r\n",
        "    Args:\r\n",
        "        d_model (int):  depth of embedding.\r\n",
        "        d_ff (int): depth of feed-forward layer.\r\n",
        "        dropout (float): dropout rate (how much to drop out).\r\n",
        "        mode (str): 'train' or 'eval'.\r\n",
        "        ff_activation (function): the non-linearity in feed-forward layer.\r\n",
        "\r\n",
        "    Returns:\r\n",
        "        list: list of trax.layers.combinators.Serial that maps an activation tensor to an activation tensor.\r\n",
        "    \"\"\"\r\n",
        "    \r\n",
        "    # Feed-forward block (list) with two dense layers with dropout and input normalized\r\n",
        "    return [ \r\n",
        "        # Normalize layer inputs\r\n",
        "        tl.LayerNorm(), \r\n",
        "        # Add first feed forward (dense) layer\r\n",
        "        tl.Dense(d_ff), \r\n",
        "        # Add activation function passed in as a parameter\r\n",
        "        ff_activation(),  # ReLU\r\n",
        "        # Add dropout with rate and mode specified (don't use dropout during evaluation)\r\n",
        "        tl.Dropout(rate=dropout, mode=mode), \r\n",
        "        # Add second feed forward layer\r\n",
        "        tl.Dense(d_model), \r\n",
        "        # Add dropout with rate and mode specified\r\n",
        "        tl.Dropout(rate=dropout, mode=mode) \r\n",
        "    ]"
      ],
      "execution_count": 18,
      "outputs": []
    },
    {
      "cell_type": "markdown",
      "metadata": {
        "id": "6ERXQvXmlGV1"
      },
      "source": [
        "### Decoder Block"
      ]
    },
    {
      "cell_type": "code",
      "metadata": {
        "id": "vBWvL2ayknwD"
      },
      "source": [
        "def DecoderBlock(d_model, d_ff, n_heads,\r\n",
        "                 dropout, mode, ff_activation):\r\n",
        "    \"\"\"Returns a list of layers that implements a Transformer decoder block.\r\n",
        "\r\n",
        "    The input is an activation tensor.\r\n",
        "\r\n",
        "    Args:\r\n",
        "        d_model (int):  depth of embedding.\r\n",
        "        d_ff (int): depth of feed-forward layer.\r\n",
        "        n_heads (int): number of attention heads.\r\n",
        "        dropout (float): dropout rate (how much to drop out).\r\n",
        "        mode (str): 'train' or 'eval'.\r\n",
        "        ff_activation (function): the non-linearity in feed-forward layer.\r\n",
        "\r\n",
        "    Returns:\r\n",
        "        list: list of trax.layers.combinators.Serial that maps an activation tensor to an activation tensor.\r\n",
        "    \"\"\"\r\n",
        "        \r\n",
        "    # List of two Residual blocks: the attention with normalization and dropout and feed-forward blocks\r\n",
        "    return [\r\n",
        "      tl.Residual(\r\n",
        "          # Normalize layer input\r\n",
        "          tl.LayerNorm(), \r\n",
        "          # Add causal attention \r\n",
        "          tl.CausalAttention(d_model, n_heads=n_heads, dropout=dropout, mode=mode) \r\n",
        "        ),\r\n",
        "      tl.Residual(\r\n",
        "          # Add feed-forward block\r\n",
        "          # The feed-forward block takes care of normalization\r\n",
        "          FeedForward(d_model, d_ff, dropout, mode, ff_activation)\r\n",
        "        ),\r\n",
        "      ]"
      ],
      "execution_count": 19,
      "outputs": []
    },
    {
      "cell_type": "markdown",
      "metadata": {
        "id": "TeyDT0rvlVU8"
      },
      "source": [
        "### Trnsformer (decoder)"
      ]
    },
    {
      "cell_type": "code",
      "metadata": {
        "id": "KBjgQXQYkn0d"
      },
      "source": [
        "def SumTransformer(vocab_size=vocab_size,\r\n",
        "                  d_model=512,\r\n",
        "                  d_ff=2048,\r\n",
        "                  n_layers=6,\r\n",
        "                  n_heads=8,\r\n",
        "                  dropout=0.1,\r\n",
        "                  max_len=4096,\r\n",
        "                  mode='train',\r\n",
        "                  ff_activation=tl.Relu):\r\n",
        "    \"\"\"Returns a Transformer language model.\r\n",
        "\r\n",
        "    The input to the model is a tensor of tokens. (This model uses only the\r\n",
        "    decoder part of the overall Transformer.)\r\n",
        "\r\n",
        "    Args:\r\n",
        "        vocab_size (int): vocab size.\r\n",
        "        d_model (int):  depth of embedding.\r\n",
        "        d_ff (int): depth of feed-forward layer.\r\n",
        "        n_layers (int): number of decoder layers.\r\n",
        "        n_heads (int): number of attention heads.\r\n",
        "        dropout (float): dropout rate (how much to drop out).\r\n",
        "        max_len (int): maximum symbol length for positional encoding.\r\n",
        "        mode (str): 'train', 'eval' or 'predict', predict mode is for fast inference.\r\n",
        "        ff_activation (function): the non-linearity in feed-forward layer.\r\n",
        "\r\n",
        "    Returns:\r\n",
        "        trax.layers.combinators.Serial: A Transformer language model as a layer that maps from a tensor of tokens\r\n",
        "        to activations over a vocab set.\r\n",
        "    \"\"\"\r\n",
        "    \r\n",
        "    # Stack of decoder blocks with n_layers with necessary parameters\r\n",
        "    decoder_blocks = [ \r\n",
        "        DecoderBlock(d_model, d_ff, n_heads, dropout, mode, ff_activation) for _ in range(n_layers)] \r\n",
        "\r\n",
        "    # The complete model\r\n",
        "    return tl.Serial(\r\n",
        "        # Use teacher forcing (feed output of previous step to current step)\r\n",
        "        tl.ShiftRight(mode=mode), \r\n",
        "        # Add embedding inputs and positional encoder\r\n",
        "        PositionalEncoder(vocab_size, d_model, dropout, max_len, mode),\r\n",
        "        # Add decoder blocks\r\n",
        "        decoder_blocks, \r\n",
        "        # Normalize layer\r\n",
        "        tl.LayerNorm(), \r\n",
        "\r\n",
        "        # Add dense layer of vocab_size (since need to select a word to translate to)\r\n",
        "        # (a.k.a., logits layer. Note: activation already set by ff_activation)\r\n",
        "        tl.Dense(vocab_size), \r\n",
        "        # Get probabilities with Logsoftmax\r\n",
        "        tl.LogSoftmax() \r\n",
        "    )"
      ],
      "execution_count": 25,
      "outputs": []
    },
    {
      "cell_type": "code",
      "metadata": {
        "colab": {
          "base_uri": "https://localhost:8080/"
        },
        "id": "6N-ElzVnlxjr",
        "outputId": "356fd70b-0843-4ccd-8f5e-3442f34d667c"
      },
      "source": [
        "print(SumTransformer(n_layers=1))"
      ],
      "execution_count": 26,
      "outputs": [
        {
          "output_type": "stream",
          "text": [
            "Serial[\n",
            "  Serial[\n",
            "    ShiftRight(1)\n",
            "  ]\n",
            "  Embedding_16000_512\n",
            "  Dropout\n",
            "  PositionalEncoding\n",
            "  Serial[\n",
            "    Branch_out2[\n",
            "      None\n",
            "      Serial[\n",
            "        LayerNorm\n",
            "        Serial[\n",
            "          Serial[\n",
            "            Serial[\n",
            "              Branch_out3[\n",
            "                [Dense_512, Serial[\n",
            "                  SplitIntoHeads\n",
            "                ]]\n",
            "                [Dense_512, Serial[\n",
            "                  SplitIntoHeads\n",
            "                ]]\n",
            "                [Dense_512, Serial[\n",
            "                  SplitIntoHeads\n",
            "                ]]\n",
            "              ]\n",
            "              DotProductCausalAttention_in3\n",
            "              Serial[\n",
            "                MergeHeads\n",
            "              ]\n",
            "              Dense_512\n",
            "            ]\n",
            "          ]\n",
            "        ]\n",
            "      ]\n",
            "    ]\n",
            "    Add_in2\n",
            "  ]\n",
            "  Serial[\n",
            "    Branch_out2[\n",
            "      None\n",
            "      Serial[\n",
            "        LayerNorm\n",
            "        Dense_2048\n",
            "        Serial[\n",
            "          Relu\n",
            "        ]\n",
            "        Dropout\n",
            "        Dense_512\n",
            "        Dropout\n",
            "      ]\n",
            "    ]\n",
            "    Add_in2\n",
            "  ]\n",
            "  LayerNorm\n",
            "  Dense_16000\n",
            "  LogSoftmax\n",
            "]\n"
          ],
          "name": "stdout"
        }
      ]
    },
    {
      "cell_type": "markdown",
      "metadata": {
        "id": "H2n63WBWmE1-"
      },
      "source": [
        "## Training"
      ]
    },
    {
      "cell_type": "code",
      "metadata": {
        "id": "zytlBNiWN13D"
      },
      "source": [
        "from trax.supervised import training\r\n",
        "\r\n",
        "def training_loop(SumTransformer, train_gen, eval_gen, output_dir = \"~/model\"):\r\n",
        "    '''\r\n",
        "    Input:\r\n",
        "        SumTransformer (trax.layers.combinators.Serial): The transformer model.\r\n",
        "        train_gen (generator): Training stream of data.\r\n",
        "        eval_gen (generator): Evaluation stream of data.\r\n",
        "        output_dir (str): folder to save your file.\r\n",
        "        \r\n",
        "    Returns:\r\n",
        "        trax.supervised.training.Loop: Training loop.\r\n",
        "    '''\r\n",
        "    output_dir = os.path.expanduser(output_dir)  # trainer is an object\r\n",
        "\r\n",
        "    # for initial train\r\n",
        "    # lr_schedule = trax.lr.warmup(n_warmup_steps=4000, max_value=0.00015)\r\n",
        "    # lr_schedule = trax.lr.warmup_and_rsqrt_decay(n_warmup_steps=8000, max_value=0.00015)\r\n",
        "    \r\n",
        "    # for re-train\r\n",
        "    lr_schedule = trax.supervised.lr_schedules.constant(0.0001)\r\n",
        "\r\n",
        "    train_task = training.TrainTask( \r\n",
        "      labeled_data=train_gen, # The training generator\r\n",
        "      loss_layer=tl.CrossEntropyLoss(), # Loss function \r\n",
        "      optimizer=trax.optimizers.Adam(0.0001), # Optimizer \r\n",
        "      lr_schedule=lr_schedule,\r\n",
        "      n_steps_per_checkpoint=100\r\n",
        "    )\r\n",
        "\r\n",
        "    eval_task = training.EvalTask( \r\n",
        "      labeled_data=eval_gen, \r\n",
        "      metrics=[tl.CrossEntropyLoss(), tl.Accuracy()] \r\n",
        "    )\r\n",
        "\r\n",
        "    loop = training.Loop(SumTransformer(d_model=512,\r\n",
        "                                       d_ff=2048,\r\n",
        "                                       n_layers=6,\r\n",
        "                                       n_heads=8,\r\n",
        "                                       mode='train'),\r\n",
        "                         train_task,\r\n",
        "                         eval_tasks=[eval_task],\r\n",
        "                         output_dir=output_dir)\r\n",
        "    \r\n",
        "    return loop"
      ],
      "execution_count": 27,
      "outputs": []
    },
    {
      "cell_type": "code",
      "metadata": {
        "id": "E7c4DZ6aGI8L"
      },
      "source": [
        "!cp /content/drive/MyDrive/model/model.pkl.gz ~/model/"
      ],
      "execution_count": 23,
      "outputs": []
    },
    {
      "cell_type": "code",
      "metadata": {
        "colab": {
          "base_uri": "https://localhost:8080/"
        },
        "id": "f7JVjnU1nAxv",
        "outputId": "0f1f1b59-3ff0-4164-cd8d-50c684d7777b"
      },
      "source": [
        "# Should take around 1 minute per 100 step on GPU\r\n",
        "# !rm -f ~/model/model.pkl.gz\r\n",
        "loop = training_loop(SumTransformer, train_batch_stream, eval_batch_stream)\r\n",
        "loop.run(20000)\r\n",
        "!cp ~/model/model.pkl.gz /content/drive/MyDrive/model/"
      ],
      "execution_count": 28,
      "outputs": [
        {
          "output_type": "stream",
          "text": [
            "\n",
            "Step  180100: Ran 100 train steps in 101.02 secs\n",
            "Step  180100: train CrossEntropyLoss |  3.64179730\n",
            "Step  180100: eval  CrossEntropyLoss |  3.88786793\n",
            "Step  180100: eval          Accuracy |  0.34782609\n",
            "\n",
            "Step  180200: Ran 100 train steps in 46.78 secs\n",
            "Step  180200: train CrossEntropyLoss |  3.66500235\n",
            "Step  180200: eval  CrossEntropyLoss |  2.90481734\n",
            "Step  180200: eval          Accuracy |  0.55140185\n",
            "\n",
            "Step  180300: Ran 100 train steps in 46.62 secs\n",
            "Step  180300: train CrossEntropyLoss |  3.56661224\n",
            "Step  180300: eval  CrossEntropyLoss |  3.29297066\n",
            "Step  180300: eval          Accuracy |  0.45192310\n",
            "\n",
            "Step  180400: Ran 100 train steps in 46.32 secs\n",
            "Step  180400: train CrossEntropyLoss |  3.52226543\n",
            "Step  180400: eval  CrossEntropyLoss |  3.49082446\n",
            "Step  180400: eval          Accuracy |  0.42660549\n",
            "\n",
            "Step  180500: Ran 100 train steps in 46.49 secs\n",
            "Step  180500: train CrossEntropyLoss |  3.49953604\n",
            "Step  180500: eval  CrossEntropyLoss |  3.97417831\n",
            "Step  180500: eval          Accuracy |  0.36448598\n",
            "\n",
            "Step  180600: Ran 100 train steps in 46.44 secs\n",
            "Step  180600: train CrossEntropyLoss |  3.43399382\n",
            "Step  180600: eval  CrossEntropyLoss |  4.86544847\n",
            "Step  180600: eval          Accuracy |  0.25925925\n",
            "\n",
            "Step  180700: Ran 100 train steps in 46.96 secs\n",
            "Step  180700: train CrossEntropyLoss |  3.40399599\n",
            "Step  180700: eval  CrossEntropyLoss |  3.34293842\n",
            "Step  180700: eval          Accuracy |  0.49763036\n",
            "\n",
            "Step  180800: Ran 100 train steps in 48.23 secs\n",
            "Step  180800: train CrossEntropyLoss |  3.41087699\n",
            "Step  180800: eval  CrossEntropyLoss |  3.16967750\n",
            "Step  180800: eval          Accuracy |  0.46078432\n",
            "\n",
            "Step  180900: Ran 100 train steps in 47.55 secs\n",
            "Step  180900: train CrossEntropyLoss |  3.40543056\n",
            "Step  180900: eval  CrossEntropyLoss |  4.12012863\n",
            "Step  180900: eval          Accuracy |  0.39823008\n",
            "\n",
            "Step  181000: Ran 100 train steps in 47.11 secs\n",
            "Step  181000: train CrossEntropyLoss |  3.39186883\n",
            "Step  181000: eval  CrossEntropyLoss |  2.95552707\n",
            "Step  181000: eval          Accuracy |  0.44761905\n",
            "\n",
            "Step  181100: Ran 100 train steps in 47.11 secs\n",
            "Step  181100: train CrossEntropyLoss |  3.32531905\n",
            "Step  181100: eval  CrossEntropyLoss |  3.54334784\n",
            "Step  181100: eval          Accuracy |  0.41340783\n",
            "\n",
            "Step  181200: Ran 100 train steps in 46.68 secs\n",
            "Step  181200: train CrossEntropyLoss |  3.26495194\n",
            "Step  181200: eval  CrossEntropyLoss |  3.32820725\n",
            "Step  181200: eval          Accuracy |  0.48888889\n",
            "\n",
            "Step  181300: Ran 100 train steps in 46.76 secs\n",
            "Step  181300: train CrossEntropyLoss |  3.27246690\n",
            "Step  181300: eval  CrossEntropyLoss |  3.75885749\n",
            "Step  181300: eval          Accuracy |  0.37500000\n",
            "\n",
            "Step  181400: Ran 100 train steps in 46.77 secs\n",
            "Step  181400: train CrossEntropyLoss |  3.21319818\n",
            "Step  181400: eval  CrossEntropyLoss |  3.88962841\n",
            "Step  181400: eval          Accuracy |  0.38613862\n",
            "\n",
            "Step  181500: Ran 100 train steps in 48.24 secs\n",
            "Step  181500: train CrossEntropyLoss |  3.23960996\n",
            "Step  181500: eval  CrossEntropyLoss |  3.00818920\n",
            "Step  181500: eval          Accuracy |  0.48484850\n",
            "\n",
            "Step  181600: Ran 100 train steps in 49.09 secs\n",
            "Step  181600: train CrossEntropyLoss |  3.21620727\n",
            "Step  181600: eval  CrossEntropyLoss |  3.98249388\n",
            "Step  181600: eval          Accuracy |  0.37037039\n",
            "\n",
            "Step  181700: Ran 100 train steps in 48.19 secs\n",
            "Step  181700: train CrossEntropyLoss |  3.20076871\n",
            "Step  181700: eval  CrossEntropyLoss |  2.97956538\n",
            "Step  181700: eval          Accuracy |  0.50427353\n",
            "\n",
            "Step  181800: Ran 100 train steps in 47.91 secs\n",
            "Step  181800: train CrossEntropyLoss |  3.18256927\n",
            "Step  181800: eval  CrossEntropyLoss |  3.57094026\n",
            "Step  181800: eval          Accuracy |  0.45116279\n",
            "\n",
            "Step  181900: Ran 100 train steps in 47.78 secs\n",
            "Step  181900: train CrossEntropyLoss |  3.23891711\n",
            "Step  181900: eval  CrossEntropyLoss |  2.87049389\n",
            "Step  181900: eval          Accuracy |  0.48571432\n",
            "\n",
            "Step  182000: Ran 100 train steps in 47.95 secs\n",
            "Step  182000: train CrossEntropyLoss |  3.17529988\n",
            "Step  182000: eval  CrossEntropyLoss |  3.31118727\n",
            "Step  182000: eval          Accuracy |  0.46305418\n",
            "\n",
            "Step  182100: Ran 100 train steps in 47.48 secs\n",
            "Step  182100: train CrossEntropyLoss |  3.20249438\n",
            "Step  182100: eval  CrossEntropyLoss |  2.72384334\n",
            "Step  182100: eval          Accuracy |  0.54285717\n",
            "\n",
            "Step  182200: Ran 100 train steps in 47.38 secs\n",
            "Step  182200: train CrossEntropyLoss |  3.14537430\n",
            "Step  182200: eval  CrossEntropyLoss |  3.75326133\n",
            "Step  182200: eval          Accuracy |  0.39830509\n",
            "\n",
            "Step  182300: Ran 100 train steps in 48.74 secs\n",
            "Step  182300: train CrossEntropyLoss |  3.16226077\n",
            "Step  182300: eval  CrossEntropyLoss |  3.73114562\n",
            "Step  182300: eval          Accuracy |  0.43362832\n",
            "\n",
            "Step  182400: Ran 100 train steps in 48.39 secs\n",
            "Step  182400: train CrossEntropyLoss |  3.13066459\n",
            "Step  182400: eval  CrossEntropyLoss |  2.96257877\n",
            "Step  182400: eval          Accuracy |  0.48387095\n",
            "\n",
            "Step  182500: Ran 100 train steps in 48.93 secs\n",
            "Step  182500: train CrossEntropyLoss |  3.10300374\n",
            "Step  182500: eval  CrossEntropyLoss |  2.84921670\n",
            "Step  182500: eval          Accuracy |  0.55357146\n",
            "\n",
            "Step  182600: Ran 100 train steps in 48.11 secs\n",
            "Step  182600: train CrossEntropyLoss |  3.06306958\n",
            "Step  182600: eval  CrossEntropyLoss |  3.60388303\n",
            "Step  182600: eval          Accuracy |  0.37373737\n",
            "\n",
            "Step  182700: Ran 100 train steps in 47.30 secs\n",
            "Step  182700: train CrossEntropyLoss |  3.10581875\n",
            "Step  182700: eval  CrossEntropyLoss |  3.72561860\n",
            "Step  182700: eval          Accuracy |  0.42639592\n",
            "\n",
            "Step  182800: Ran 100 train steps in 47.25 secs\n",
            "Step  182800: train CrossEntropyLoss |  3.12118435\n",
            "Step  182800: eval  CrossEntropyLoss |  3.47480011\n",
            "Step  182800: eval          Accuracy |  0.46875000\n",
            "\n",
            "Step  182900: Ran 100 train steps in 47.05 secs\n",
            "Step  182900: train CrossEntropyLoss |  3.20501614\n",
            "Step  182900: eval  CrossEntropyLoss |  3.13000178\n",
            "Step  182900: eval          Accuracy |  0.47524750\n",
            "\n",
            "Step  183000: Ran 100 train steps in 46.99 secs\n",
            "Step  183000: train CrossEntropyLoss |  3.09436941\n",
            "Step  183000: eval  CrossEntropyLoss |  4.51888895\n",
            "Step  183000: eval          Accuracy |  0.38144332\n",
            "\n",
            "Step  183100: Ran 100 train steps in 47.94 secs\n",
            "Step  183100: train CrossEntropyLoss |  3.07337689\n",
            "Step  183100: eval  CrossEntropyLoss |  3.29893970\n",
            "Step  183100: eval          Accuracy |  0.52127659\n",
            "\n",
            "Step  183200: Ran 100 train steps in 48.90 secs\n",
            "Step  183200: train CrossEntropyLoss |  3.11418462\n",
            "Step  183200: eval  CrossEntropyLoss |  2.87352872\n",
            "Step  183200: eval          Accuracy |  0.51388890\n",
            "\n",
            "Step  183300: Ran 100 train steps in 48.08 secs\n",
            "Step  183300: train CrossEntropyLoss |  3.06198907\n",
            "Step  183300: eval  CrossEntropyLoss |  3.22238135\n",
            "Step  183300: eval          Accuracy |  0.42168677\n",
            "\n",
            "Step  183400: Ran 100 train steps in 49.22 secs\n",
            "Step  183400: train CrossEntropyLoss |  3.06707358\n",
            "Step  183400: eval  CrossEntropyLoss |  3.46954060\n",
            "Step  183400: eval          Accuracy |  0.46315792\n",
            "\n",
            "Step  183500: Ran 100 train steps in 48.63 secs\n",
            "Step  183500: train CrossEntropyLoss |  3.12152982\n",
            "Step  183500: eval  CrossEntropyLoss |  3.07203555\n",
            "Step  183500: eval          Accuracy |  0.50515467\n",
            "\n",
            "Step  183600: Ran 100 train steps in 48.85 secs\n",
            "Step  183600: train CrossEntropyLoss |  3.10917234\n",
            "Step  183600: eval  CrossEntropyLoss |  3.10012436\n",
            "Step  183600: eval          Accuracy |  0.43093926\n",
            "\n",
            "Step  183700: Ran 100 train steps in 48.55 secs\n",
            "Step  183700: train CrossEntropyLoss |  3.13115907\n",
            "Step  183700: eval  CrossEntropyLoss |  2.34375763\n",
            "Step  183700: eval          Accuracy |  0.66972476\n",
            "\n",
            "Step  183800: Ran 100 train steps in 47.94 secs\n",
            "Step  183800: train CrossEntropyLoss |  3.07776332\n",
            "Step  183800: eval  CrossEntropyLoss |  3.38753152\n",
            "Step  183800: eval          Accuracy |  0.38461539\n",
            "\n",
            "Step  183900: Ran 100 train steps in 47.93 secs\n",
            "Step  183900: train CrossEntropyLoss |  3.09665918\n",
            "Step  183900: eval  CrossEntropyLoss |  2.79567122\n",
            "Step  183900: eval          Accuracy |  0.49767441\n",
            "\n",
            "Step  184000: Ran 100 train steps in 47.47 secs\n",
            "Step  184000: train CrossEntropyLoss |  3.04328251\n",
            "Step  184000: eval  CrossEntropyLoss |  3.25979376\n",
            "Step  184000: eval          Accuracy |  0.51546395\n",
            "\n",
            "Step  184100: Ran 100 train steps in 48.23 secs\n",
            "Step  184100: train CrossEntropyLoss |  3.04611993\n",
            "Step  184100: eval  CrossEntropyLoss |  3.00942755\n",
            "Step  184100: eval          Accuracy |  0.51200002\n",
            "\n",
            "Step  184200: Ran 100 train steps in 49.01 secs\n",
            "Step  184200: train CrossEntropyLoss |  3.10077238\n",
            "Step  184200: eval  CrossEntropyLoss |  3.72960138\n",
            "Step  184200: eval          Accuracy |  0.43636364\n",
            "\n",
            "Step  184300: Ran 100 train steps in 48.72 secs\n",
            "Step  184300: train CrossEntropyLoss |  3.04496217\n",
            "Step  184300: eval  CrossEntropyLoss |  3.03616810\n",
            "Step  184300: eval          Accuracy |  0.52884614\n",
            "\n",
            "Step  184400: Ran 100 train steps in 49.05 secs\n",
            "Step  184400: train CrossEntropyLoss |  3.15787220\n",
            "Step  184400: eval  CrossEntropyLoss |  2.57469559\n",
            "Step  184400: eval          Accuracy |  0.54773867\n",
            "\n",
            "Step  184500: Ran 100 train steps in 48.20 secs\n",
            "Step  184500: train CrossEntropyLoss |  3.03965712\n",
            "Step  184500: eval  CrossEntropyLoss |  4.10330296\n",
            "Step  184500: eval          Accuracy |  0.36752138\n",
            "\n",
            "Step  184600: Ran 100 train steps in 47.69 secs\n",
            "Step  184600: train CrossEntropyLoss |  3.05914783\n",
            "Step  184600: eval  CrossEntropyLoss |  3.00383568\n",
            "Step  184600: eval          Accuracy |  0.48453611\n",
            "\n",
            "Step  184700: Ran 100 train steps in 47.85 secs\n",
            "Step  184700: train CrossEntropyLoss |  3.11825466\n",
            "Step  184700: eval  CrossEntropyLoss |  3.50341964\n",
            "Step  184700: eval          Accuracy |  0.47222224\n",
            "\n",
            "Step  184800: Ran 100 train steps in 47.54 secs\n",
            "Step  184800: train CrossEntropyLoss |  3.05701375\n",
            "Step  184800: eval  CrossEntropyLoss |  2.48478603\n",
            "Step  184800: eval          Accuracy |  0.56194693\n",
            "\n",
            "Step  184900: Ran 100 train steps in 47.79 secs\n",
            "Step  184900: train CrossEntropyLoss |  3.08015180\n",
            "Step  184900: eval  CrossEntropyLoss |  3.00451422\n",
            "Step  184900: eval          Accuracy |  0.47368422\n",
            "\n",
            "Step  185000: Ran 100 train steps in 48.65 secs\n",
            "Step  185000: train CrossEntropyLoss |  2.99153471\n",
            "Step  185000: eval  CrossEntropyLoss |  2.99851108\n",
            "Step  185000: eval          Accuracy |  0.51754385\n",
            "\n",
            "Step  185100: Ran 100 train steps in 48.25 secs\n",
            "Step  185100: train CrossEntropyLoss |  2.98526049\n",
            "Step  185100: eval  CrossEntropyLoss |  3.82967472\n",
            "Step  185100: eval          Accuracy |  0.38709676\n",
            "\n",
            "Step  185200: Ran 100 train steps in 48.82 secs\n",
            "Step  185200: train CrossEntropyLoss |  2.97778749\n",
            "Step  185200: eval  CrossEntropyLoss |  3.15398932\n",
            "Step  185200: eval          Accuracy |  0.49009901\n",
            "\n",
            "Step  185300: Ran 100 train steps in 48.60 secs\n",
            "Step  185300: train CrossEntropyLoss |  3.05746555\n",
            "Step  185300: eval  CrossEntropyLoss |  3.64632392\n",
            "Step  185300: eval          Accuracy |  0.38582677\n",
            "\n",
            "Step  185400: Ran 100 train steps in 48.84 secs\n",
            "Step  185400: train CrossEntropyLoss |  3.03194737\n",
            "Step  185400: eval  CrossEntropyLoss |  2.65215182\n",
            "Step  185400: eval          Accuracy |  0.53333336\n",
            "\n",
            "Step  185500: Ran 100 train steps in 48.72 secs\n",
            "Step  185500: train CrossEntropyLoss |  3.00286222\n",
            "Step  185500: eval  CrossEntropyLoss |  3.11423302\n",
            "Step  185500: eval          Accuracy |  0.51485145\n",
            "\n",
            "Step  185600: Ran 100 train steps in 48.79 secs\n",
            "Step  185600: train CrossEntropyLoss |  3.02913809\n",
            "Step  185600: eval  CrossEntropyLoss |  3.00814795\n",
            "Step  185600: eval          Accuracy |  0.50925928\n",
            "\n",
            "Step  185700: Ran 100 train steps in 48.71 secs\n",
            "Step  185700: train CrossEntropyLoss |  3.01703191\n",
            "Step  185700: eval  CrossEntropyLoss |  3.21046829\n",
            "Step  185700: eval          Accuracy |  0.48484850\n",
            "\n",
            "Step  185800: Ran 100 train steps in 48.88 secs\n",
            "Step  185800: train CrossEntropyLoss |  3.07053185\n",
            "Step  185800: eval  CrossEntropyLoss |  2.92190909\n",
            "Step  185800: eval          Accuracy |  0.51546395\n",
            "\n",
            "Step  185900: Ran 100 train steps in 48.91 secs\n",
            "Step  185900: train CrossEntropyLoss |  3.10074353\n",
            "Step  185900: eval  CrossEntropyLoss |  2.81643629\n",
            "Step  185900: eval          Accuracy |  0.49519232\n",
            "\n",
            "Step  186000: Ran 100 train steps in 48.44 secs\n",
            "Step  186000: train CrossEntropyLoss |  3.00521111\n",
            "Step  186000: eval  CrossEntropyLoss |  2.59513235\n",
            "Step  186000: eval          Accuracy |  0.53043479\n",
            "\n",
            "Step  186100: Ran 100 train steps in 48.02 secs\n",
            "Step  186100: train CrossEntropyLoss |  3.03719068\n",
            "Step  186100: eval  CrossEntropyLoss |  2.91824293\n",
            "Step  186100: eval          Accuracy |  0.48062015\n",
            "\n",
            "Step  186200: Ran 100 train steps in 47.44 secs\n",
            "Step  186200: train CrossEntropyLoss |  3.07646823\n",
            "Step  186200: eval  CrossEntropyLoss |  3.25311804\n",
            "Step  186200: eval          Accuracy |  0.44791669\n",
            "\n",
            "Step  186300: Ran 100 train steps in 48.40 secs\n",
            "Step  186300: train CrossEntropyLoss |  2.95923734\n",
            "Step  186300: eval  CrossEntropyLoss |  2.80489707\n",
            "Step  186300: eval          Accuracy |  0.46534652\n",
            "\n",
            "Step  186400: Ran 100 train steps in 48.51 secs\n",
            "Step  186400: train CrossEntropyLoss |  3.05441284\n",
            "Step  186400: eval  CrossEntropyLoss |  2.84706044\n",
            "Step  186400: eval          Accuracy |  0.52488691\n",
            "\n",
            "Step  186500: Ran 100 train steps in 48.02 secs\n",
            "Step  186500: train CrossEntropyLoss |  2.95750046\n",
            "Step  186500: eval  CrossEntropyLoss |  3.57683349\n",
            "Step  186500: eval          Accuracy |  0.42156863\n",
            "\n",
            "Step  186600: Ran 100 train steps in 47.43 secs\n",
            "Step  186600: train CrossEntropyLoss |  3.00533557\n",
            "Step  186600: eval  CrossEntropyLoss |  3.16758513\n",
            "Step  186600: eval          Accuracy |  0.48214287\n",
            "\n",
            "Step  186700: Ran 100 train steps in 47.51 secs\n",
            "Step  186700: train CrossEntropyLoss |  3.09086275\n",
            "Step  186700: eval  CrossEntropyLoss |  3.08492136\n",
            "Step  186700: eval          Accuracy |  0.47846892\n",
            "\n",
            "Step  186800: Ran 100 train steps in 47.37 secs\n",
            "Step  186800: train CrossEntropyLoss |  3.03523088\n",
            "Step  186800: eval  CrossEntropyLoss |  3.45634794\n",
            "Step  186800: eval          Accuracy |  0.42342344\n",
            "\n",
            "Step  186900: Ran 100 train steps in 47.61 secs\n",
            "Step  186900: train CrossEntropyLoss |  2.94801641\n",
            "Step  186900: eval  CrossEntropyLoss |  3.38411355\n",
            "Step  186900: eval          Accuracy |  0.43157896\n",
            "\n",
            "Step  187000: Ran 100 train steps in 47.78 secs\n",
            "Step  187000: train CrossEntropyLoss |  3.03153276\n",
            "Step  187000: eval  CrossEntropyLoss |  3.32376218\n",
            "Step  187000: eval          Accuracy |  0.39423078\n",
            "\n",
            "Step  187100: Ran 100 train steps in 48.88 secs\n",
            "Step  187100: train CrossEntropyLoss |  2.95823002\n",
            "Step  187100: eval  CrossEntropyLoss |  2.80072308\n",
            "Step  187100: eval          Accuracy |  0.47959182\n",
            "\n",
            "Step  187200: Ran 100 train steps in 49.42 secs\n",
            "Step  187200: train CrossEntropyLoss |  2.96255040\n",
            "Step  187200: eval  CrossEntropyLoss |  3.14592886\n",
            "Step  187200: eval          Accuracy |  0.48623851\n",
            "\n",
            "Step  187300: Ran 100 train steps in 48.44 secs\n",
            "Step  187300: train CrossEntropyLoss |  2.90278745\n",
            "Step  187300: eval  CrossEntropyLoss |  3.30082369\n",
            "Step  187300: eval          Accuracy |  0.45360827\n",
            "\n",
            "Step  187400: Ran 100 train steps in 48.13 secs\n",
            "Step  187400: train CrossEntropyLoss |  2.99659967\n",
            "Step  187400: eval  CrossEntropyLoss |  3.34105682\n",
            "Step  187400: eval          Accuracy |  0.43119264\n",
            "\n",
            "Step  187500: Ran 100 train steps in 47.80 secs\n",
            "Step  187500: train CrossEntropyLoss |  2.90745473\n",
            "Step  187500: eval  CrossEntropyLoss |  3.28931260\n",
            "Step  187500: eval          Accuracy |  0.42718446\n",
            "\n",
            "Step  187600: Ran 100 train steps in 47.53 secs\n",
            "Step  187600: train CrossEntropyLoss |  2.98404408\n",
            "Step  187600: eval  CrossEntropyLoss |  2.58445716\n",
            "Step  187600: eval          Accuracy |  0.55555558\n",
            "\n",
            "Step  187700: Ran 100 train steps in 47.58 secs\n",
            "Step  187700: train CrossEntropyLoss |  2.98037839\n",
            "Step  187700: eval  CrossEntropyLoss |  3.82309604\n",
            "Step  187700: eval          Accuracy |  0.39999998\n",
            "\n",
            "Step  187800: Ran 100 train steps in 47.97 secs\n",
            "Step  187800: train CrossEntropyLoss |  2.97968030\n",
            "Step  187800: eval  CrossEntropyLoss |  2.94870710\n",
            "Step  187800: eval          Accuracy |  0.45023698\n",
            "\n",
            "Step  187900: Ran 100 train steps in 49.01 secs\n",
            "Step  187900: train CrossEntropyLoss |  2.96630025\n",
            "Step  187900: eval  CrossEntropyLoss |  2.88589740\n",
            "Step  187900: eval          Accuracy |  0.53465348\n",
            "\n",
            "Step  188000: Ran 100 train steps in 49.70 secs\n",
            "Step  188000: train CrossEntropyLoss |  3.02616930\n",
            "Step  188000: eval  CrossEntropyLoss |  3.00692463\n",
            "Step  188000: eval          Accuracy |  0.48341233\n",
            "\n",
            "Step  188100: Ran 100 train steps in 48.02 secs\n",
            "Step  188100: train CrossEntropyLoss |  2.94156480\n",
            "Step  188100: eval  CrossEntropyLoss |  3.26353073\n",
            "Step  188100: eval          Accuracy |  0.42708334\n",
            "\n",
            "Step  188200: Ran 100 train steps in 47.90 secs\n",
            "Step  188200: train CrossEntropyLoss |  2.96486378\n",
            "Step  188200: eval  CrossEntropyLoss |  2.86083412\n",
            "Step  188200: eval          Accuracy |  0.49074075\n",
            "\n",
            "Step  188300: Ran 100 train steps in 47.94 secs\n",
            "Step  188300: train CrossEntropyLoss |  3.01784968\n",
            "Step  188300: eval  CrossEntropyLoss |  3.97879648\n",
            "Step  188300: eval          Accuracy |  0.34931508\n",
            "\n",
            "Step  188400: Ran 100 train steps in 47.61 secs\n",
            "Step  188400: train CrossEntropyLoss |  2.95002079\n",
            "Step  188400: eval  CrossEntropyLoss |  2.29957819\n",
            "Step  188400: eval          Accuracy |  0.53773588\n",
            "\n",
            "Step  188500: Ran 100 train steps in 47.53 secs\n",
            "Step  188500: train CrossEntropyLoss |  2.88390517\n",
            "Step  188500: eval  CrossEntropyLoss |  2.73619795\n",
            "Step  188500: eval          Accuracy |  0.54054058\n",
            "\n",
            "Step  188600: Ran 100 train steps in 47.87 secs\n",
            "Step  188600: train CrossEntropyLoss |  3.00181389\n",
            "Step  188600: eval  CrossEntropyLoss |  2.77033734\n",
            "Step  188600: eval          Accuracy |  0.52173913\n",
            "\n",
            "Step  188700: Ran 100 train steps in 48.69 secs\n",
            "Step  188700: train CrossEntropyLoss |  2.91525173\n",
            "Step  188700: eval  CrossEntropyLoss |  2.87715340\n",
            "Step  188700: eval          Accuracy |  0.48181817\n",
            "\n",
            "Step  188800: Ran 100 train steps in 49.42 secs\n",
            "Step  188800: train CrossEntropyLoss |  2.98286986\n",
            "Step  188800: eval  CrossEntropyLoss |  2.58887625\n",
            "Step  188800: eval          Accuracy |  0.55000001\n",
            "\n",
            "Step  188900: Ran 100 train steps in 48.69 secs\n",
            "Step  188900: train CrossEntropyLoss |  2.95885205\n",
            "Step  188900: eval  CrossEntropyLoss |  2.64266205\n",
            "Step  188900: eval          Accuracy |  0.55238098\n",
            "\n",
            "Step  189000: Ran 100 train steps in 49.11 secs\n",
            "Step  189000: train CrossEntropyLoss |  2.97462821\n",
            "Step  189000: eval  CrossEntropyLoss |  2.78243661\n",
            "Step  189000: eval          Accuracy |  0.51111114\n",
            "\n",
            "Step  189100: Ran 100 train steps in 48.31 secs\n",
            "Step  189100: train CrossEntropyLoss |  3.00975180\n",
            "Step  189100: eval  CrossEntropyLoss |  3.23962951\n",
            "Step  189100: eval          Accuracy |  0.43564355\n",
            "\n",
            "Step  189200: Ran 100 train steps in 47.76 secs\n",
            "Step  189200: train CrossEntropyLoss |  2.92566824\n",
            "Step  189200: eval  CrossEntropyLoss |  2.99219275\n",
            "Step  189200: eval          Accuracy |  0.49579835\n",
            "\n",
            "Step  189300: Ran 100 train steps in 48.00 secs\n",
            "Step  189300: train CrossEntropyLoss |  2.92486477\n",
            "Step  189300: eval  CrossEntropyLoss |  3.54828882\n",
            "Step  189300: eval          Accuracy |  0.38372093\n",
            "\n",
            "Step  189400: Ran 100 train steps in 47.46 secs\n",
            "Step  189400: train CrossEntropyLoss |  2.93401361\n",
            "Step  189400: eval  CrossEntropyLoss |  2.90619063\n",
            "Step  189400: eval          Accuracy |  0.52100843\n",
            "\n",
            "Step  189500: Ran 100 train steps in 48.34 secs\n",
            "Step  189500: train CrossEntropyLoss |  2.97720814\n",
            "Step  189500: eval  CrossEntropyLoss |  3.05303764\n",
            "Step  189500: eval          Accuracy |  0.46445501\n",
            "\n",
            "Step  189600: Ran 100 train steps in 49.14 secs\n",
            "Step  189600: train CrossEntropyLoss |  2.98614168\n",
            "Step  189600: eval  CrossEntropyLoss |  3.20150876\n",
            "Step  189600: eval          Accuracy |  0.43478259\n",
            "\n",
            "Step  189700: Ran 100 train steps in 48.65 secs\n",
            "Step  189700: train CrossEntropyLoss |  2.92236662\n",
            "Step  189700: eval  CrossEntropyLoss |  3.00945663\n",
            "Step  189700: eval          Accuracy |  0.48913044\n",
            "\n",
            "Step  189800: Ran 100 train steps in 49.47 secs\n",
            "Step  189800: train CrossEntropyLoss |  2.91134667\n",
            "Step  189800: eval  CrossEntropyLoss |  3.17405629\n",
            "Step  189800: eval          Accuracy |  0.46511626\n",
            "\n",
            "Step  189900: Ran 100 train steps in 48.67 secs\n",
            "Step  189900: train CrossEntropyLoss |  2.97998834\n",
            "Step  189900: eval  CrossEntropyLoss |  3.01843476\n",
            "Step  189900: eval          Accuracy |  0.43925232\n",
            "\n",
            "Step  190000: Ran 100 train steps in 48.89 secs\n",
            "Step  190000: train CrossEntropyLoss |  2.93852067\n",
            "Step  190000: eval  CrossEntropyLoss |  2.88781238\n",
            "Step  190000: eval          Accuracy |  0.52500004\n",
            "\n",
            "Step  190100: Ran 100 train steps in 48.11 secs\n",
            "Step  190100: train CrossEntropyLoss |  2.94183493\n",
            "Step  190100: eval  CrossEntropyLoss |  3.55506134\n",
            "Step  190100: eval          Accuracy |  0.45631069\n",
            "\n",
            "Step  190200: Ran 100 train steps in 47.70 secs\n",
            "Step  190200: train CrossEntropyLoss |  2.99605918\n",
            "Step  190200: eval  CrossEntropyLoss |  2.52394438\n",
            "Step  190200: eval          Accuracy |  0.57213926\n",
            "\n",
            "Step  190300: Ran 100 train steps in 47.55 secs\n",
            "Step  190300: train CrossEntropyLoss |  2.92169142\n",
            "Step  190300: eval  CrossEntropyLoss |  3.20550513\n",
            "Step  190300: eval          Accuracy |  0.42857146\n",
            "\n",
            "Step  190400: Ran 100 train steps in 47.68 secs\n",
            "Step  190400: train CrossEntropyLoss |  2.91551638\n",
            "Step  190400: eval  CrossEntropyLoss |  2.81747699\n",
            "Step  190400: eval          Accuracy |  0.53125000\n",
            "\n",
            "Step  190500: Ran 100 train steps in 48.68 secs\n",
            "Step  190500: train CrossEntropyLoss |  2.92964411\n",
            "Step  190500: eval  CrossEntropyLoss |  2.83546042\n",
            "Step  190500: eval          Accuracy |  0.49514565\n",
            "\n",
            "Step  190600: Ran 100 train steps in 49.20 secs\n",
            "Step  190600: train CrossEntropyLoss |  3.03791928\n",
            "Step  190600: eval  CrossEntropyLoss |  3.25424552\n",
            "Step  190600: eval          Accuracy |  0.44067797\n",
            "\n",
            "Step  190700: Ran 100 train steps in 48.37 secs\n",
            "Step  190700: train CrossEntropyLoss |  2.89316988\n",
            "Step  190700: eval  CrossEntropyLoss |  2.98143196\n",
            "Step  190700: eval          Accuracy |  0.52403849\n",
            "\n",
            "Step  190800: Ran 100 train steps in 48.82 secs\n",
            "Step  190800: train CrossEntropyLoss |  2.91141009\n",
            "Step  190800: eval  CrossEntropyLoss |  3.29585099\n",
            "Step  190800: eval          Accuracy |  0.45161289\n",
            "\n",
            "Step  190900: Ran 100 train steps in 48.39 secs\n",
            "Step  190900: train CrossEntropyLoss |  2.87968397\n",
            "Step  190900: eval  CrossEntropyLoss |  3.42991662\n",
            "Step  190900: eval          Accuracy |  0.46464646\n",
            "\n",
            "Step  191000: Ran 100 train steps in 48.87 secs\n",
            "Step  191000: train CrossEntropyLoss |  2.91617036\n",
            "Step  191000: eval  CrossEntropyLoss |  3.92723322\n",
            "Step  191000: eval          Accuracy |  0.33636361\n",
            "\n",
            "Step  191100: Ran 100 train steps in 48.40 secs\n",
            "Step  191100: train CrossEntropyLoss |  2.89443254\n",
            "Step  191100: eval  CrossEntropyLoss |  3.08817768\n",
            "Step  191100: eval          Accuracy |  0.44502619\n",
            "\n",
            "Step  191200: Ran 100 train steps in 48.83 secs\n",
            "Step  191200: train CrossEntropyLoss |  2.97666860\n",
            "Step  191200: eval  CrossEntropyLoss |  3.09089470\n",
            "Step  191200: eval          Accuracy |  0.49549550\n",
            "\n",
            "Step  191300: Ran 100 train steps in 48.24 secs\n",
            "Step  191300: train CrossEntropyLoss |  2.98348451\n",
            "Step  191300: eval  CrossEntropyLoss |  3.29200840\n",
            "Step  191300: eval          Accuracy |  0.45081970\n",
            "\n",
            "Step  191400: Ran 100 train steps in 48.39 secs\n",
            "Step  191400: train CrossEntropyLoss |  2.98172140\n",
            "Step  191400: eval  CrossEntropyLoss |  2.54766560\n",
            "Step  191400: eval          Accuracy |  0.46534652\n",
            "\n",
            "Step  191500: Ran 100 train steps in 48.28 secs\n",
            "Step  191500: train CrossEntropyLoss |  2.94914126\n",
            "Step  191500: eval  CrossEntropyLoss |  2.79301381\n",
            "Step  191500: eval          Accuracy |  0.49019611\n",
            "\n",
            "Step  191600: Ran 100 train steps in 48.47 secs\n",
            "Step  191600: train CrossEntropyLoss |  2.95244741\n",
            "Step  191600: eval  CrossEntropyLoss |  2.74146008\n",
            "Step  191600: eval          Accuracy |  0.48543689\n",
            "\n",
            "Step  191700: Ran 100 train steps in 48.58 secs\n",
            "Step  191700: train CrossEntropyLoss |  2.91963410\n",
            "Step  191700: eval  CrossEntropyLoss |  2.89237595\n",
            "Step  191700: eval          Accuracy |  0.54716980\n",
            "\n",
            "Step  191800: Ran 100 train steps in 48.66 secs\n",
            "Step  191800: train CrossEntropyLoss |  2.93118215\n",
            "Step  191800: eval  CrossEntropyLoss |  2.72211719\n",
            "Step  191800: eval          Accuracy |  0.53921568\n",
            "\n",
            "Step  191900: Ran 100 train steps in 48.46 secs\n",
            "Step  191900: train CrossEntropyLoss |  2.92025256\n",
            "Step  191900: eval  CrossEntropyLoss |  3.14021683\n",
            "Step  191900: eval          Accuracy |  0.52173913\n",
            "\n",
            "Step  192000: Ran 100 train steps in 48.37 secs\n",
            "Step  192000: train CrossEntropyLoss |  2.90398884\n",
            "Step  192000: eval  CrossEntropyLoss |  3.32065439\n",
            "Step  192000: eval          Accuracy |  0.50000000\n",
            "\n",
            "Step  192100: Ran 100 train steps in 48.38 secs\n",
            "Step  192100: train CrossEntropyLoss |  2.91734052\n",
            "Step  192100: eval  CrossEntropyLoss |  2.82550216\n",
            "Step  192100: eval          Accuracy |  0.52606636\n",
            "\n",
            "Step  192200: Ran 100 train steps in 48.35 secs\n",
            "Step  192200: train CrossEntropyLoss |  2.88442492\n",
            "Step  192200: eval  CrossEntropyLoss |  2.78541398\n",
            "Step  192200: eval          Accuracy |  0.51327431\n",
            "\n",
            "Step  192300: Ran 100 train steps in 48.44 secs\n",
            "Step  192300: train CrossEntropyLoss |  2.91658521\n",
            "Step  192300: eval  CrossEntropyLoss |  2.89942789\n",
            "Step  192300: eval          Accuracy |  0.52688169\n",
            "\n",
            "Step  192400: Ran 100 train steps in 48.19 secs\n",
            "Step  192400: train CrossEntropyLoss |  2.85468078\n",
            "Step  192400: eval  CrossEntropyLoss |  2.75028133\n",
            "Step  192400: eval          Accuracy |  0.48333335\n",
            "\n",
            "Step  192500: Ran 100 train steps in 48.49 secs\n",
            "Step  192500: train CrossEntropyLoss |  2.90142322\n",
            "Step  192500: eval  CrossEntropyLoss |  2.73975301\n",
            "Step  192500: eval          Accuracy |  0.49056605\n",
            "\n",
            "Step  192600: Ran 100 train steps in 48.23 secs\n",
            "Step  192600: train CrossEntropyLoss |  2.88567519\n",
            "Step  192600: eval  CrossEntropyLoss |  3.17243791\n",
            "Step  192600: eval          Accuracy |  0.44761905\n",
            "\n",
            "Step  192700: Ran 100 train steps in 48.08 secs\n",
            "Step  192700: train CrossEntropyLoss |  2.90265608\n",
            "Step  192700: eval  CrossEntropyLoss |  3.43010187\n",
            "Step  192700: eval          Accuracy |  0.46226415\n",
            "\n",
            "Step  192800: Ran 100 train steps in 48.13 secs\n",
            "Step  192800: train CrossEntropyLoss |  2.86167598\n",
            "Step  192800: eval  CrossEntropyLoss |  2.75372267\n",
            "Step  192800: eval          Accuracy |  0.51794875\n",
            "\n",
            "Step  192900: Ran 100 train steps in 48.10 secs\n",
            "Step  192900: train CrossEntropyLoss |  2.86223269\n",
            "Step  192900: eval  CrossEntropyLoss |  3.25805044\n",
            "Step  192900: eval          Accuracy |  0.45652175\n",
            "\n",
            "Step  193000: Ran 100 train steps in 48.29 secs\n",
            "Step  193000: train CrossEntropyLoss |  2.94255519\n",
            "Step  193000: eval  CrossEntropyLoss |  3.26844358\n",
            "Step  193000: eval          Accuracy |  0.47777778\n",
            "\n",
            "Step  193100: Ran 100 train steps in 48.19 secs\n",
            "Step  193100: train CrossEntropyLoss |  2.89744568\n",
            "Step  193100: eval  CrossEntropyLoss |  2.87974000\n",
            "Step  193100: eval          Accuracy |  0.46774191\n",
            "\n",
            "Step  193200: Ran 100 train steps in 48.42 secs\n",
            "Step  193200: train CrossEntropyLoss |  2.94048309\n",
            "Step  193200: eval  CrossEntropyLoss |  3.20670962\n",
            "Step  193200: eval          Accuracy |  0.48623851\n",
            "\n",
            "Step  193300: Ran 100 train steps in 48.34 secs\n",
            "Step  193300: train CrossEntropyLoss |  2.87792921\n",
            "Step  193300: eval  CrossEntropyLoss |  2.55100322\n",
            "Step  193300: eval          Accuracy |  0.57558137\n",
            "\n",
            "Step  193400: Ran 100 train steps in 48.56 secs\n",
            "Step  193400: train CrossEntropyLoss |  2.99075699\n",
            "Step  193400: eval  CrossEntropyLoss |  3.41218829\n",
            "Step  193400: eval          Accuracy |  0.49122807\n",
            "\n",
            "Step  193500: Ran 100 train steps in 48.23 secs\n",
            "Step  193500: train CrossEntropyLoss |  2.86884332\n",
            "Step  193500: eval  CrossEntropyLoss |  3.62116957\n",
            "Step  193500: eval          Accuracy |  0.38211384\n",
            "\n",
            "Step  193600: Ran 100 train steps in 48.15 secs\n",
            "Step  193600: train CrossEntropyLoss |  2.91756916\n",
            "Step  193600: eval  CrossEntropyLoss |  2.92738605\n",
            "Step  193600: eval          Accuracy |  0.51327431\n",
            "\n",
            "Step  193700: Ran 100 train steps in 48.23 secs\n",
            "Step  193700: train CrossEntropyLoss |  2.87882924\n",
            "Step  193700: eval  CrossEntropyLoss |  3.14058876\n",
            "Step  193700: eval          Accuracy |  0.49308756\n",
            "\n",
            "Step  193800: Ran 100 train steps in 48.33 secs\n",
            "Step  193800: train CrossEntropyLoss |  2.91874599\n",
            "Step  193800: eval  CrossEntropyLoss |  2.38153791\n",
            "Step  193800: eval          Accuracy |  0.56179774\n",
            "\n",
            "Step  193900: Ran 100 train steps in 48.16 secs\n",
            "Step  193900: train CrossEntropyLoss |  2.85094953\n",
            "Step  193900: eval  CrossEntropyLoss |  3.11030507\n",
            "Step  193900: eval          Accuracy |  0.51960784\n",
            "\n",
            "Step  194000: Ran 100 train steps in 48.39 secs\n",
            "Step  194000: train CrossEntropyLoss |  2.89639425\n",
            "Step  194000: eval  CrossEntropyLoss |  2.41067171\n",
            "Step  194000: eval          Accuracy |  0.57851237\n",
            "\n",
            "Step  194100: Ran 100 train steps in 47.94 secs\n",
            "Step  194100: train CrossEntropyLoss |  2.90227461\n",
            "Step  194100: eval  CrossEntropyLoss |  2.65861106\n",
            "Step  194100: eval          Accuracy |  0.52631581\n",
            "\n",
            "Step  194200: Ran 100 train steps in 48.48 secs\n",
            "Step  194200: train CrossEntropyLoss |  2.95325708\n",
            "Step  194200: eval  CrossEntropyLoss |  3.09208703\n",
            "Step  194200: eval          Accuracy |  0.46456692\n",
            "\n",
            "Step  194300: Ran 100 train steps in 48.15 secs\n",
            "Step  194300: train CrossEntropyLoss |  2.87398076\n",
            "Step  194300: eval  CrossEntropyLoss |  2.65660739\n",
            "Step  194300: eval          Accuracy |  0.57657659\n",
            "\n",
            "Step  194400: Ran 100 train steps in 48.33 secs\n",
            "Step  194400: train CrossEntropyLoss |  2.86430073\n",
            "Step  194400: eval  CrossEntropyLoss |  3.15229845\n",
            "Step  194400: eval          Accuracy |  0.46460176\n",
            "\n",
            "Step  194500: Ran 100 train steps in 48.16 secs\n",
            "Step  194500: train CrossEntropyLoss |  2.95293021\n",
            "Step  194500: eval  CrossEntropyLoss |  3.42129731\n",
            "Step  194500: eval          Accuracy |  0.39393941\n",
            "\n",
            "Step  194600: Ran 100 train steps in 48.09 secs\n",
            "Step  194600: train CrossEntropyLoss |  2.88083458\n",
            "Step  194600: eval  CrossEntropyLoss |  3.32917786\n",
            "Step  194600: eval          Accuracy |  0.45744678\n",
            "\n",
            "Step  194700: Ran 100 train steps in 48.12 secs\n",
            "Step  194700: train CrossEntropyLoss |  2.98406792\n",
            "Step  194700: eval  CrossEntropyLoss |  3.43411016\n",
            "Step  194700: eval          Accuracy |  0.35416669\n",
            "\n",
            "Step  194800: Ran 100 train steps in 48.19 secs\n",
            "Step  194800: train CrossEntropyLoss |  2.91841364\n",
            "Step  194800: eval  CrossEntropyLoss |  2.94936442\n",
            "Step  194800: eval          Accuracy |  0.45026177\n",
            "\n",
            "Step  194900: Ran 100 train steps in 48.04 secs\n",
            "Step  194900: train CrossEntropyLoss |  2.88294339\n",
            "Step  194900: eval  CrossEntropyLoss |  2.53974175\n",
            "Step  194900: eval          Accuracy |  0.51886791\n",
            "\n",
            "Step  195000: Ran 100 train steps in 48.27 secs\n",
            "Step  195000: train CrossEntropyLoss |  2.93512058\n",
            "Step  195000: eval  CrossEntropyLoss |  3.13681340\n",
            "Step  195000: eval          Accuracy |  0.52127659\n",
            "\n",
            "Step  195100: Ran 100 train steps in 48.00 secs\n",
            "Step  195100: train CrossEntropyLoss |  2.92602038\n",
            "Step  195100: eval  CrossEntropyLoss |  2.92585206\n",
            "Step  195100: eval          Accuracy |  0.56310678\n",
            "\n",
            "Step  195200: Ran 100 train steps in 48.23 secs\n",
            "Step  195200: train CrossEntropyLoss |  2.84717989\n",
            "Step  195200: eval  CrossEntropyLoss |  3.10332251\n",
            "Step  195200: eval          Accuracy |  0.46111113\n",
            "\n",
            "Step  195300: Ran 100 train steps in 48.13 secs\n",
            "Step  195300: train CrossEntropyLoss |  2.88564014\n",
            "Step  195300: eval  CrossEntropyLoss |  2.10153770\n",
            "Step  195300: eval          Accuracy |  0.63281250\n",
            "\n",
            "Step  195400: Ran 100 train steps in 48.11 secs\n",
            "Step  195400: train CrossEntropyLoss |  2.93374252\n",
            "Step  195400: eval  CrossEntropyLoss |  3.78728986\n",
            "Step  195400: eval          Accuracy |  0.36448598\n",
            "\n",
            "Step  195500: Ran 100 train steps in 48.06 secs\n",
            "Step  195500: train CrossEntropyLoss |  2.98496079\n",
            "Step  195500: eval  CrossEntropyLoss |  2.87562704\n",
            "Step  195500: eval          Accuracy |  0.47619051\n",
            "\n",
            "Step  195600: Ran 100 train steps in 48.18 secs\n",
            "Step  195600: train CrossEntropyLoss |  2.85753584\n",
            "Step  195600: eval  CrossEntropyLoss |  2.51719236\n",
            "Step  195600: eval          Accuracy |  0.54411769\n",
            "\n",
            "Step  195700: Ran 100 train steps in 48.43 secs\n",
            "Step  195700: train CrossEntropyLoss |  2.91774201\n",
            "Step  195700: eval  CrossEntropyLoss |  2.98995423\n",
            "Step  195700: eval          Accuracy |  0.52380955\n",
            "\n",
            "Step  195800: Ran 100 train steps in 48.25 secs\n",
            "Step  195800: train CrossEntropyLoss |  2.87538195\n",
            "Step  195800: eval  CrossEntropyLoss |  3.13229060\n",
            "Step  195800: eval          Accuracy |  0.44736841\n",
            "\n",
            "Step  195900: Ran 100 train steps in 48.13 secs\n",
            "Step  195900: train CrossEntropyLoss |  2.88742304\n",
            "Step  195900: eval  CrossEntropyLoss |  2.70534635\n",
            "Step  195900: eval          Accuracy |  0.52884614\n",
            "\n",
            "Step  196000: Ran 100 train steps in 48.69 secs\n",
            "Step  196000: train CrossEntropyLoss |  2.90957761\n",
            "Step  196000: eval  CrossEntropyLoss |  2.69948792\n",
            "Step  196000: eval          Accuracy |  0.54106277\n",
            "\n",
            "Step  196100: Ran 100 train steps in 48.08 secs\n",
            "Step  196100: train CrossEntropyLoss |  2.89744043\n",
            "Step  196100: eval  CrossEntropyLoss |  2.61734700\n",
            "Step  196100: eval          Accuracy |  0.60169494\n",
            "\n",
            "Step  196200: Ran 100 train steps in 48.66 secs\n",
            "Step  196200: train CrossEntropyLoss |  2.88985109\n",
            "Step  196200: eval  CrossEntropyLoss |  2.54783607\n",
            "Step  196200: eval          Accuracy |  0.58333331\n",
            "\n",
            "Step  196300: Ran 100 train steps in 48.39 secs\n",
            "Step  196300: train CrossEntropyLoss |  2.86863279\n",
            "Step  196300: eval  CrossEntropyLoss |  2.57515216\n",
            "Step  196300: eval          Accuracy |  0.54954958\n",
            "\n",
            "Step  196400: Ran 100 train steps in 48.81 secs\n",
            "Step  196400: train CrossEntropyLoss |  2.89915252\n",
            "Step  196400: eval  CrossEntropyLoss |  2.57673383\n",
            "Step  196400: eval          Accuracy |  0.53333336\n",
            "\n",
            "Step  196500: Ran 100 train steps in 48.02 secs\n",
            "Step  196500: train CrossEntropyLoss |  2.91659164\n",
            "Step  196500: eval  CrossEntropyLoss |  2.39799857\n",
            "Step  196500: eval          Accuracy |  0.56862748\n",
            "\n",
            "Step  196600: Ran 100 train steps in 47.35 secs\n",
            "Step  196600: train CrossEntropyLoss |  2.89444232\n",
            "Step  196600: eval  CrossEntropyLoss |  3.15781426\n",
            "Step  196600: eval          Accuracy |  0.44761905\n",
            "\n",
            "Step  196700: Ran 100 train steps in 47.24 secs\n",
            "Step  196700: train CrossEntropyLoss |  2.82468033\n",
            "Step  196700: eval  CrossEntropyLoss |  2.91303420\n",
            "Step  196700: eval          Accuracy |  0.50000000\n",
            "\n",
            "Step  196800: Ran 100 train steps in 47.17 secs\n",
            "Step  196800: train CrossEntropyLoss |  2.90822816\n",
            "Step  196800: eval  CrossEntropyLoss |  2.74484706\n",
            "Step  196800: eval          Accuracy |  0.53097343\n",
            "\n",
            "Step  196900: Ran 100 train steps in 46.90 secs\n",
            "Step  196900: train CrossEntropyLoss |  2.82997227\n",
            "Step  196900: eval  CrossEntropyLoss |  2.68769479\n",
            "Step  196900: eval          Accuracy |  0.54032254\n",
            "\n",
            "Step  197000: Ran 100 train steps in 47.23 secs\n",
            "Step  197000: train CrossEntropyLoss |  2.89097857\n",
            "Step  197000: eval  CrossEntropyLoss |  2.91307783\n",
            "Step  197000: eval          Accuracy |  0.51030934\n",
            "\n",
            "Step  197100: Ran 100 train steps in 46.79 secs\n",
            "Step  197100: train CrossEntropyLoss |  2.88860917\n",
            "Step  197100: eval  CrossEntropyLoss |  3.12695670\n",
            "Step  197100: eval          Accuracy |  0.50537634\n",
            "\n",
            "Step  197200: Ran 100 train steps in 46.98 secs\n",
            "Step  197200: train CrossEntropyLoss |  2.89423704\n",
            "Step  197200: eval  CrossEntropyLoss |  2.85245824\n",
            "Step  197200: eval          Accuracy |  0.50746268\n",
            "\n",
            "Step  197300: Ran 100 train steps in 46.56 secs\n",
            "Step  197300: train CrossEntropyLoss |  2.85357285\n",
            "Step  197300: eval  CrossEntropyLoss |  2.44864941\n",
            "Step  197300: eval          Accuracy |  0.58558559\n",
            "\n",
            "Step  197400: Ran 100 train steps in 46.63 secs\n",
            "Step  197400: train CrossEntropyLoss |  2.81482935\n",
            "Step  197400: eval  CrossEntropyLoss |  3.22534180\n",
            "Step  197400: eval          Accuracy |  0.44736841\n",
            "\n",
            "Step  197500: Ran 100 train steps in 46.65 secs\n",
            "Step  197500: train CrossEntropyLoss |  2.87706709\n",
            "Step  197500: eval  CrossEntropyLoss |  2.95605850\n",
            "Step  197500: eval          Accuracy |  0.48648649\n",
            "\n",
            "Step  197600: Ran 100 train steps in 46.67 secs\n",
            "Step  197600: train CrossEntropyLoss |  2.87825274\n",
            "Step  197600: eval  CrossEntropyLoss |  2.99462771\n",
            "Step  197600: eval          Accuracy |  0.40740740\n",
            "\n",
            "Step  197700: Ran 100 train steps in 46.84 secs\n",
            "Step  197700: train CrossEntropyLoss |  2.92613721\n",
            "Step  197700: eval  CrossEntropyLoss |  2.31860971\n",
            "Step  197700: eval          Accuracy |  0.55851060\n",
            "\n",
            "Step  197800: Ran 100 train steps in 46.78 secs\n",
            "Step  197800: train CrossEntropyLoss |  2.92397738\n",
            "Step  197800: eval  CrossEntropyLoss |  2.81845713\n",
            "Step  197800: eval          Accuracy |  0.51851851\n",
            "\n",
            "Step  197900: Ran 100 train steps in 46.94 secs\n",
            "Step  197900: train CrossEntropyLoss |  2.86543751\n",
            "Step  197900: eval  CrossEntropyLoss |  2.09353924\n",
            "Step  197900: eval          Accuracy |  0.64583337\n",
            "\n",
            "Step  198000: Ran 100 train steps in 47.22 secs\n",
            "Step  198000: train CrossEntropyLoss |  2.87013555\n",
            "Step  198000: eval  CrossEntropyLoss |  2.77509046\n",
            "Step  198000: eval          Accuracy |  0.50793654\n",
            "\n",
            "Step  198100: Ran 100 train steps in 47.00 secs\n",
            "Step  198100: train CrossEntropyLoss |  2.89856434\n",
            "Step  198100: eval  CrossEntropyLoss |  2.68451977\n",
            "Step  198100: eval          Accuracy |  0.49238577\n",
            "\n",
            "Step  198200: Ran 100 train steps in 47.27 secs\n",
            "Step  198200: train CrossEntropyLoss |  2.75614214\n",
            "Step  198200: eval  CrossEntropyLoss |  2.55214024\n",
            "Step  198200: eval          Accuracy |  0.53921568\n",
            "\n",
            "Step  198300: Ran 100 train steps in 46.78 secs\n",
            "Step  198300: train CrossEntropyLoss |  2.87008929\n",
            "Step  198300: eval  CrossEntropyLoss |  3.77396560\n",
            "Step  198300: eval          Accuracy |  0.38317755\n",
            "\n",
            "Step  198400: Ran 100 train steps in 46.72 secs\n",
            "Step  198400: train CrossEntropyLoss |  2.89322805\n",
            "Step  198400: eval  CrossEntropyLoss |  2.18911624\n",
            "Step  198400: eval          Accuracy |  0.59813082\n",
            "\n",
            "Step  198500: Ran 100 train steps in 46.68 secs\n",
            "Step  198500: train CrossEntropyLoss |  2.88934922\n",
            "Step  198500: eval  CrossEntropyLoss |  2.43057394\n",
            "Step  198500: eval          Accuracy |  0.57608694\n",
            "\n",
            "Step  198600: Ran 100 train steps in 46.92 secs\n",
            "Step  198600: train CrossEntropyLoss |  2.87648582\n",
            "Step  198600: eval  CrossEntropyLoss |  3.61065841\n",
            "Step  198600: eval          Accuracy |  0.39090908\n",
            "\n",
            "Step  198700: Ran 100 train steps in 46.89 secs\n",
            "Step  198700: train CrossEntropyLoss |  2.83423710\n",
            "Step  198700: eval  CrossEntropyLoss |  3.24663806\n",
            "Step  198700: eval          Accuracy |  0.43795621\n",
            "\n",
            "Step  198800: Ran 100 train steps in 46.65 secs\n",
            "Step  198800: train CrossEntropyLoss |  2.86814046\n",
            "Step  198800: eval  CrossEntropyLoss |  2.42246866\n",
            "Step  198800: eval          Accuracy |  0.56074762\n",
            "\n",
            "Step  198900: Ran 100 train steps in 46.78 secs\n",
            "Step  198900: train CrossEntropyLoss |  2.86685109\n",
            "Step  198900: eval  CrossEntropyLoss |  2.67942619\n",
            "Step  198900: eval          Accuracy |  0.51546395\n",
            "\n",
            "Step  199000: Ran 100 train steps in 46.67 secs\n",
            "Step  199000: train CrossEntropyLoss |  2.88005877\n",
            "Step  199000: eval  CrossEntropyLoss |  3.50967836\n",
            "Step  199000: eval          Accuracy |  0.41935483\n",
            "\n",
            "Step  199100: Ran 100 train steps in 46.74 secs\n",
            "Step  199100: train CrossEntropyLoss |  2.87518620\n",
            "Step  199100: eval  CrossEntropyLoss |  3.80963302\n",
            "Step  199100: eval          Accuracy |  0.46575344\n",
            "\n",
            "Step  199200: Ran 100 train steps in 46.22 secs\n",
            "Step  199200: train CrossEntropyLoss |  2.86435294\n",
            "Step  199200: eval  CrossEntropyLoss |  3.07341480\n",
            "Step  199200: eval          Accuracy |  0.50000000\n",
            "\n",
            "Step  199300: Ran 100 train steps in 46.26 secs\n",
            "Step  199300: train CrossEntropyLoss |  2.80523276\n",
            "Step  199300: eval  CrossEntropyLoss |  3.06528473\n",
            "Step  199300: eval          Accuracy |  0.49468082\n",
            "\n",
            "Step  199400: Ran 100 train steps in 46.15 secs\n",
            "Step  199400: train CrossEntropyLoss |  2.87864041\n",
            "Step  199400: eval  CrossEntropyLoss |  3.35056090\n",
            "Step  199400: eval          Accuracy |  0.44642860\n",
            "\n",
            "Step  199500: Ran 100 train steps in 46.13 secs\n",
            "Step  199500: train CrossEntropyLoss |  2.79352021\n",
            "Step  199500: eval  CrossEntropyLoss |  2.80290580\n",
            "Step  199500: eval          Accuracy |  0.51923078\n",
            "\n",
            "Step  199600: Ran 100 train steps in 46.42 secs\n",
            "Step  199600: train CrossEntropyLoss |  2.91180301\n",
            "Step  199600: eval  CrossEntropyLoss |  2.61100483\n",
            "Step  199600: eval          Accuracy |  0.56097567\n",
            "\n",
            "Step  199700: Ran 100 train steps in 46.34 secs\n",
            "Step  199700: train CrossEntropyLoss |  2.87817502\n",
            "Step  199700: eval  CrossEntropyLoss |  2.99676609\n",
            "Step  199700: eval          Accuracy |  0.53982300\n",
            "\n",
            "Step  199800: Ran 100 train steps in 46.44 secs\n",
            "Step  199800: train CrossEntropyLoss |  2.82880282\n",
            "Step  199800: eval  CrossEntropyLoss |  3.13228130\n",
            "Step  199800: eval          Accuracy |  0.48039219\n",
            "\n",
            "Step  199900: Ran 100 train steps in 46.47 secs\n",
            "Step  199900: train CrossEntropyLoss |  2.79081655\n",
            "Step  199900: eval  CrossEntropyLoss |  3.35637593\n",
            "Step  199900: eval          Accuracy |  0.50909090\n",
            "\n",
            "Step  200000: Ran 100 train steps in 46.56 secs\n",
            "Step  200000: train CrossEntropyLoss |  2.78242421\n",
            "Step  200000: eval  CrossEntropyLoss |  3.07206964\n",
            "Step  200000: eval          Accuracy |  0.49557522\n"
          ],
          "name": "stdout"
        }
      ]
    },
    {
      "cell_type": "markdown",
      "metadata": {
        "id": "bG__Khf34G6H"
      },
      "source": [
        "## Evaluate"
      ]
    },
    {
      "cell_type": "markdown",
      "metadata": {
        "id": "OT5r57o-4sqq"
      },
      "source": [
        "### Predict next symbol (greedy)"
      ]
    },
    {
      "cell_type": "code",
      "metadata": {
        "id": "cFtOwQS9xxsC"
      },
      "source": [
        "# Get the model architecture\r\n",
        "model = SumTransformer(mode='eval')\r\n",
        "\r\n",
        "# Load the pre-trained weights\r\n",
        "model.init_from_file('/root/model/model.pkl.gz', weights_only=True)"
      ],
      "execution_count": 29,
      "outputs": []
    },
    {
      "cell_type": "code",
      "metadata": {
        "id": "sUKsw20txykZ"
      },
      "source": [
        "def next_symbol(cur_output_tokens, model):\r\n",
        "    \"\"\"Returns the next symbol for a given sentence.\r\n",
        "\r\n",
        "    Args:\r\n",
        "        cur_output_tokens (list): tokenized sentence with EOS and PAD tokens at the end.\r\n",
        "        model (trax.layers.combinators.Serial): The transformer model.\r\n",
        "\r\n",
        "    Returns:\r\n",
        "        int: tokenized symbol.\r\n",
        "    \"\"\"\r\n",
        "\r\n",
        "    # current output tokens length\r\n",
        "    token_length = len(cur_output_tokens)\r\n",
        "    # calculate the minimum power of 2 big enough to store token_length\r\n",
        "    padded_length = 2**int(np.ceil(np.log2(token_length + 1)))\r\n",
        "\r\n",
        "    # Fill cur_output_tokens with 0's until it reaches padded_length\r\n",
        "    padded = list(cur_output_tokens) + [0] * (padded_length - token_length)\r\n",
        "    padded_with_batch = np.array(padded)[None, :] # setting the batch dim\r\n",
        "\r\n",
        "    # model expects a tuple containing two padded tensors (with batch)\r\n",
        "    output, _ = model((padded_with_batch, padded_with_batch)) \r\n",
        "    # To get log_probs you need to index output with 0 in the first dim\r\n",
        "    # token_length in the second dim and all of the entries for the last dim.\r\n",
        "    log_probs = output[0, token_length, :]\r\n",
        "    \r\n",
        "    return int(np.argmax(log_probs))"
      ],
      "execution_count": 30,
      "outputs": []
    },
    {
      "cell_type": "code",
      "metadata": {
        "id": "MJFQl767yHwg",
        "colab": {
          "base_uri": "https://localhost:8080/"
        },
        "outputId": "3d5f9b23-be7c-442f-d2c7-1cdbf1378a83"
      },
      "source": [
        "eval_article1 = eval_text_pairs[5][0]\r\n",
        "eval_summary1 = eval_text_pairs[5][1]\r\n",
        "print(wrapper.fill(eval_article1))\r\n",
        "print('')\r\n",
        "eval_article2 = eval_text_pairs[4][0]\r\n",
        "eval_summary2 = eval_text_pairs[4][1]\r\n",
        "print(wrapper.fill(eval_article2))"
      ],
      "execution_count": 31,
      "outputs": [
        {
          "output_type": "stream",
          "text": [
            "международная группа ученых установила, что неандертальцы, по-\n",
            "видимому, использовали перья врановых и хищных птиц для собственного\n",
            "украшения. работа опубликована в журнале plos one, ее краткое\n",
            "содержание приводит phys.org. ученые проанализировали данные по 1699\n",
            "стоянкам неандертальцев, которые были обнаружены в европе и на ближнем\n",
            "востоке. крылья представителей врановых и хищных птиц антропологи\n",
            "находили на всей территории обитания древних людей. по данным анализа,\n",
            "находки костей птиц в пещерах, которые заселяли древние люди, не\n",
            "являются случайными. далее ученые обратились к костям, найденным в\n",
            "нескольких пещерах гибралтара. на них были обнаружены отметки,\n",
            "свидетельствующие об обработке острыми предметами. поскольку мяса на\n",
            "крыльях птиц практически нет, то единственный смысл их обработки, по\n",
            "мнению ученых, заключается в извлечении из крыльев перьев. видовое\n",
            "разнообразие найденных костей говорит о том, что неандертальцы\n",
            "предпочитали украшать себя именно темными перьями, характерными для\n",
            "воронов, грачей и коршунов. если авторы окажутся правы в своих\n",
            "выводах, это будет иметь важное значение для понимания\n",
            "интеллектуального развития неандертальцев. ранее считалось, что\n",
            "украшение себя перьями, клыками или другими предметами, характерно\n",
            "только для людей современного типа. впрочем, некоторые исследователи\n",
            "недавно выдвинули гипотезу о том, что неандертальцы могли быть\n",
            "авторами первой наскальной живописи. изменение представлений о\n",
            "культурном и интеллектуальном развитии неандертальцев повлечет\n",
            "усиление дискуссий о причинах, приведших к их вымиранию. на\n",
            "сегодняшний день считается, что во многом успех современного человека\n",
            "объясняется именно интеллектуальным превосходством.\n",
            "\n",
            "американская general motors приняла решение отозвать свои\n",
            "электромобили 1997-1998 года выпуска из-за неполадки, которая может\n",
            "привести к пожару при перезарядке аккумуляторных батарей, передает\n",
            "france presse. речь идет приблизительно о тысяче электромобилей\n",
            "\"первого поколения\", производство которых было налажено с 1997 года.\n",
            "положение настолько серьезно, что конструкторы обратились к владельцам\n",
            "машин с просьбой не перезаряжать батареи до приезда официального\n",
            "представителя компании, который заберет электромобиль на доработку.\n",
            "между тем general motors не собирается прекращать выпуск этих машин,\n",
            "отмечая, что подобные проблемы, как правило, свойственны практически\n",
            "всем машинам этого класса.\n"
          ],
          "name": "stdout"
        }
      ]
    },
    {
      "cell_type": "markdown",
      "metadata": {
        "id": "LjwQxAlL5BkH"
      },
      "source": [
        "### Greedy decode"
      ]
    },
    {
      "cell_type": "code",
      "metadata": {
        "id": "_Od6PagJxyrt"
      },
      "source": [
        "def greedy_decode(input_sentence, model):\r\n",
        "    \"\"\"Greedy decode function.\r\n",
        "\r\n",
        "    Args:\r\n",
        "        input_sentence (string): a sentence or article.\r\n",
        "        model (trax.layers.combinators.Serial): Transformer model.\r\n",
        "\r\n",
        "    Returns:\r\n",
        "        string: summary of the input.\r\n",
        "    \"\"\"\r\n",
        "    \r\n",
        "    cur_output_tokens = tokenize(input_sentence) + [0]\r\n",
        "    generated_output = [] \r\n",
        "    cur_output = 0 \r\n",
        "    EOS = 1 \r\n",
        "    \r\n",
        "    while cur_output != EOS:\r\n",
        "\r\n",
        "        print(detokenize(generated_output))\r\n",
        "        # Get next symbol\r\n",
        "        cur_output = next_symbol(cur_output_tokens, model)\r\n",
        "        # Append next symbol to original sentence\r\n",
        "        cur_output_tokens.append(cur_output)\r\n",
        "        \r\n",
        "        # Append next symbol to generated sentence\r\n",
        "        generated_output.append(cur_output)\r\n",
        "\r\n",
        "    return detokenize(generated_output)"
      ],
      "execution_count": 32,
      "outputs": []
    },
    {
      "cell_type": "code",
      "metadata": {
        "id": "1x_F2WnRyAnI",
        "colab": {
          "base_uri": "https://localhost:8080/"
        },
        "outputId": "fb4a5bbe-434a-49a8-925a-62d684648abd"
      },
      "source": [
        "print(eval_summary1)\r\n",
        "print('')\r\n",
        "_ = greedy_decode(eval_article1, model)"
      ],
      "execution_count": 33,
      "outputs": [
        {
          "output_type": "stream",
          "text": [
            "неандертальцев заподозрили в изготовлении украшений из перьев\n",
            "\n",
            "\n",
            "ученые\n",
            "ученые обнаружили\n",
            "ученые обнаружили древ\n",
            "ученые обнаружили древней\n",
            "ученые обнаружили древнейшие\n",
            "ученые обнаружили древнейшие древ\n",
            "ученые обнаружили древнейшие древней\n",
            "ученые обнаружили древнейшие древнейшие\n",
            "ученые обнаружили древнейшие древнейшие птицы\n"
          ],
          "name": "stdout"
        }
      ]
    },
    {
      "cell_type": "code",
      "metadata": {
        "id": "YhM5hjzcezLx",
        "colab": {
          "base_uri": "https://localhost:8080/"
        },
        "outputId": "735d2335-47f7-47f1-988f-c49f11ac2c40"
      },
      "source": [
        "print(eval_summary2)\r\n",
        "print('')\r\n",
        "_ = greedy_decode(eval_article2, model)"
      ],
      "execution_count": 34,
      "outputs": [
        {
          "output_type": "stream",
          "text": [
            "general motors отзывает электромобили\n",
            "\n",
            "\n",
            "gener\n",
            "general\n",
            "general mot\n",
            "general motors\n",
            "general motors отмени\n",
            "general motors отменила\n",
            "general motors отменила все\n",
            "general motors отменила все электро\n",
            "general motors отменила все электромоби\n",
            "general motors отменила все электромобили\n"
          ],
          "name": "stdout"
        }
      ]
    }
  ]
}